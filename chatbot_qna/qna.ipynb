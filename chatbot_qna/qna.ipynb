{
 "cells": [
  {
   "cell_type": "code",
   "execution_count": 1,
   "metadata": {
    "collapsed": true
   },
   "outputs": [],
   "source": [
    "import pickle\n",
    "import numpy as np"
   ]
  },
  {
   "cell_type": "code",
   "execution_count": null,
   "outputs": [],
   "source": [
    "train_data = [(['Politechnika', 'Krakowska', 'ma', 'informatyke', '.', 'Politechnika', 'Krakowska',  'jest', 'w', 'Krakowie','.',  'Na', 'politechnike', 'krakowska', 'jest', '145', 'punktow.'], ['Czy', 'dostanie', 'sie', 'majac', '130', '?'], 'nie'),\n",
    "              (['Uniwersytet', 'Warszawski', 'oferta', 'studia', 'informatyka', '.', 'Uniwersytet', 'Warszawski', 'znajduje', 'się', 'w', 'Warszawie', '.', 'Aby', 'dostać', 'się', 'na', 'ten', 'kierunek', ',', 'trzeba', 'uzyskać', 'minimim', '150', 'punktów', '.'], ['Czy', 'dostanę', 'się', 'mając', '140', 'punktów', '?'], 'nie'),\n",
    "              (['Politechnika', 'Wrocławska', 'posiada', 'kierunek', 'informatyka', '.', 'Politechnika', 'Wrocławska', 'znajduje', 'się', 'we', 'Wrocławiu', '.', 'Aby', 'uzyskać', 'miejsce', 'na', 'studia', ',', 'trzeba', 'zdobyć', 'minimum', '160', 'punktów', '.'], ['Czy', 'będzie', 'szansa', 'z', 'wynikiem', '155', 'punktów', '?'], 'nie'),\n",
    "\n",
    "              (['Jagielloński', 'Uniwersytet', 'ma', 'kierunek', 'medycyna', '.', 'Jagielloński', 'Uniwersytet', 'znajduje', 'się', 'w', 'Krakowie', '.'], ['Czy', 'jest', 'kierunek', 'informatyka', 'na', 'Jagielloński', 'Uniwersytet', '?'], 'nie'),\n",
    "              (['Uniwersytet', 'Gdański', 'posiada', 'wydział', 'historii', '.', 'Uniwersytet', 'Gdański', 'znajduje', 'się', 'w', 'Gdańsku', '.'], ['Czy', 'są', 'studia', 'informatyczne', 'na', 'Uniwersytecie', 'Gdańskim', '?'], 'nie'),\n",
    "              (['Uniwersytet', 'Łódzki', 'oferta', 'kierunek', 'filozofia', '.', 'Uniwersytet', 'Łódzki', 'znajduje', 'się', 'w', 'Łodzi', '.'], ['Czy', 'jest', 'filozofia', 'w', 'Łodzi', '?'], 'tak'),\n",
    "              (['Politechnika', 'Krakowska', 'znajduje', 'się', 'w', 'Krakowie', '.', 'Politechnika', 'Krakowska', 'oferta', 'studia', 'informatyka', '.', 'Aby', 'uzyskać', 'miejsce', 'na', 'studia', ',', 'trzeba', 'zdobyć', 'minimum', '155', 'punktów', '.'], ['Czy', 'jest', 'kierunek', 'medycyna', 'na', 'Politechnika', 'Krakowska', '?'], 'nie')\n",
    "              ]"
   ],
   "metadata": {
    "collapsed": false
   }
  }
 ],
 "metadata": {
  "kernelspec": {
   "display_name": "Python 3",
   "language": "python",
   "name": "python3"
  },
  "language_info": {
   "codemirror_mode": {
    "name": "ipython",
    "version": 2
   },
   "file_extension": ".py",
   "mimetype": "text/x-python",
   "name": "python",
   "nbconvert_exporter": "python",
   "pygments_lexer": "ipython2",
   "version": "2.7.6"
  }
 },
 "nbformat": 4,
 "nbformat_minor": 0
}
