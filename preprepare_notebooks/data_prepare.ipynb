{
 "cells": [
  {
   "cell_type": "code",
   "execution_count": null,
   "outputs": [],
   "source": [],
   "metadata": {
    "collapsed": false
   }
  },
  {
   "cell_type": "code",
   "execution_count": null,
   "metadata": {
    "collapsed": true
   },
   "outputs": [],
   "source": [
    "import pandas as pd\n",
    "import uuid"
   ]
  },
  {
   "cell_type": "code",
   "execution_count": null,
   "outputs": [],
   "source": [
    "from IPython.core.interactiveshell import InteractiveShell\n",
    "\n",
    "InteractiveShell.ast_node_interactivity = \"all\""
   ],
   "metadata": {
    "collapsed": false
   }
  },
  {
   "cell_type": "code",
   "execution_count": null,
   "outputs": [],
   "source": [
    "df = pd.read_csv('zestawienie.csv')"
   ],
   "metadata": {
    "collapsed": false
   }
  },
  {
   "cell_type": "code",
   "execution_count": null,
   "outputs": [],
   "source": [
    "print(df['Nazwa instytucji'].count())"
   ],
   "metadata": {
    "collapsed": false
   }
  },
  {
   "cell_type": "code",
   "execution_count": null,
   "outputs": [],
   "source": [
    "df.drop_duplicates(subset='Nazwa instytucji',\n",
    "                   keep=False, inplace=True)"
   ],
   "metadata": {
    "collapsed": false
   }
  },
  {
   "cell_type": "code",
   "execution_count": null,
   "outputs": [],
   "source": [
    "print(df[['Nazwa instytucji', 'Adres - miasto']].head())"
   ],
   "metadata": {
    "collapsed": false
   }
  },
  {
   "cell_type": "code",
   "execution_count": null,
   "outputs": [],
   "source": [
    "df.drop_duplicates(subset='Adres - miasto',\n",
    "                   keep=False, inplace=True)"
   ],
   "metadata": {
    "collapsed": false
   }
  },
  {
   "cell_type": "code",
   "execution_count": null,
   "outputs": [],
   "source": [
    "print(df)"
   ],
   "metadata": {
    "collapsed": false
   }
  },
  {
   "cell_type": "code",
   "execution_count": null,
   "outputs": [],
   "source": [
    "print(df.describe())"
   ],
   "metadata": {
    "collapsed": false
   }
  },
  {
   "cell_type": "code",
   "execution_count": null,
   "outputs": [],
   "source": [
    "study_names = df['Nazwa instytucji'][:20]\n",
    "city_names = df['Adres - miasto'][:20]"
   ],
   "metadata": {
    "collapsed": false
   }
  },
  {
   "cell_type": "code",
   "execution_count": null,
   "outputs": [],
   "source": [
    "print(city_names)"
   ],
   "metadata": {
    "collapsed": false
   }
  },
  {
   "cell_type": "code",
   "execution_count": null,
   "outputs": [],
   "source": [
    "university_tag_id = \"c06bd022-6ded-44a5-8d90-f17685bb85a1\"\n",
    "city_tag_id = \"c06bd022-6ded-44a5-8d90-f17685bb85a2\"\n",
    "kierunek_tag_id = \"c06bd022-6ded-44a5-8d90-f17685bb85a3\""
   ],
   "metadata": {
    "collapsed": false
   }
  },
  {
   "cell_type": "code",
   "execution_count": null,
   "outputs": [],
   "source": [
    "for study_name in study_names:\n",
    "    print(study_name)"
   ],
   "metadata": {
    "collapsed": false
   }
  },
  {
   "cell_type": "code",
   "execution_count": null,
   "outputs": [],
   "source": [
    "template = \"\"\"\n",
    "{\n",
    "      \"id\": \"{uuid1}\",\n",
    "      \"content\": \"{content}\",\n",
    "      \"metadata\": {},\n",
    "      \"annotations\": [\n",
    "        {\n",
    "          \"id\": \"{uuid2}\",\n",
    "          \"tag_id\": \"{university_tag_id}\",\n",
    "          \"end\": {end},\n",
    "          \"start\": {start},\n",
    "          \"example_id\": \"{uuid3}\",\n",
    "          \"tag_name\": \"University\",\n",
    "          \"value\": \"{name}\",\n",
    "          \"correct\": null,\n",
    "          \"human_annotations\": [\n",
    "            {\n",
    "              \"timestamp\": \"2020-03-21T00:24:32.098000Z\",\n",
    "              \"annotator_id\": 1,\n",
    "              \"tagged_token_id\": \"979b6f5d-8e2d-4214-9e08-cc283ac3df1e\",\n",
    "              \"name\": \"Ashpat123\",\n",
    "              \"reason\": \"exploration\"\n",
    "            }\n",
    "          ],\n",
    "          \"model_annotations\": []\n",
    "        }\n",
    "      ],\n",
    "      \"classifications\": []\n",
    "    }\n",
    "\"\"\""
   ],
   "metadata": {
    "collapsed": false
   }
  },
  {
   "cell_type": "code",
   "execution_count": null,
   "outputs": [],
   "source": [
    "city_template = \"\"\"\n",
    "{\n",
    "      \"id\": \"{uuid1}\",\n",
    "      \"content\": \"{content}\",\n",
    "      \"metadata\": {},\n",
    "      \"annotations\": [\n",
    "        {\n",
    "          \"id\": \"{uuid2}\",\n",
    "          \"tag_id\": \"c06bd022-6ded-44a5-8d90-f17685bb85a2\",\n",
    "          \"end\": {end},\n",
    "          \"start\": {start},\n",
    "          \"example_id\": \"{uuid3}\",\n",
    "          \"tag_name\": \"City\",\n",
    "          \"value\": \"{name}\",\n",
    "          \"correct\": null,\n",
    "          \"human_annotations\": [\n",
    "            {\n",
    "              \"timestamp\": \"2020-03-21T00:24:32.098000Z\",\n",
    "              \"annotator_id\": 1,\n",
    "              \"tagged_token_id\": \"979b6f5d-8e2d-4214-9e08-cc283ac3df1e\",\n",
    "              \"name\": \"jamroz_mateusz\",\n",
    "              \"reason\": \"i want moree\"\n",
    "            }\n",
    "          ],\n",
    "          \"model_annotations\": []\n",
    "        }\n",
    "      ],\n",
    "      \"classifications\": []\n",
    "    }\n",
    "\"\"\""
   ],
   "metadata": {
    "collapsed": false
   }
  },
  {
   "cell_type": "code",
   "execution_count": null,
   "outputs": [],
   "source": [
    "city_kierunek_template = \"\"\"\n",
    "{\n",
    "      \"id\": \"{uuid1}\",\n",
    "      \"content\": \"{content}\",\n",
    "      \"metadata\": {},\n",
    "      \"annotations\": [\n",
    "        {\n",
    "          \"id\": \"{uuid2}\",\n",
    "          \"tag_id\": \"c06bd022-6ded-44a5-8d90-f17685bb85a2\",\n",
    "          \"end\": {city_end},\n",
    "          \"start\": {city_start},\n",
    "          \"example_id\": \"{uuid3}\",\n",
    "          \"tag_name\": \"City\",\n",
    "          \"value\": \"{city_name}\",\n",
    "          \"correct\": null,\n",
    "          \"human_annotations\": [\n",
    "            {\n",
    "              \"timestamp\": \"2020-03-21T00:24:32.098000Z\",\n",
    "              \"annotator_id\": 1,\n",
    "              \"tagged_token_id\": \"979b6f5d-8e2d-4214-9e08-cc283ac3df1e\",\n",
    "              \"name\": \"jamroz_mateusz\",\n",
    "              \"reason\": \"i want moree\"\n",
    "            }\n",
    "          ],\n",
    "          \"model_annotations\": []\n",
    "        },\n",
    "        {\n",
    "          \"id\": \"{uuid11}\",\n",
    "          \"tag_id\": \"c06bd022-6ded-44a5-8d90-f17685bb85a3\",\n",
    "          \"end\": {kier_end},\n",
    "          \"start\": {kier_start},\n",
    "          \"example_id\": \"{uuid12}\",\n",
    "          \"tag_name\": \"Subject\",\n",
    "          \"value\": \"{kierunek_name}\",\n",
    "          \"correct\": null,\n",
    "          \"human_annotations\": [\n",
    "            {\n",
    "              \"timestamp\": \"2020-03-21T00:24:32.098000Z\",\n",
    "              \"annotator_id\": 1,\n",
    "              \"tagged_token_id\": \"979b6f5d-8e2d-4214-9e08-cc283ac3df1e\",\n",
    "              \"name\": \"jamroz_mateusz\",\n",
    "              \"reason\": \"i want moree\"\n",
    "            }\n",
    "          ],\n",
    "          \"model_annotations\": []\n",
    "        }\n",
    "      ],\n",
    "      \"classifications\": []\n",
    "    }\n",
    "\"\"\""
   ],
   "metadata": {
    "collapsed": false
   }
  },
  {
   "cell_type": "code",
   "execution_count": null,
   "outputs": [],
   "source": [
    "### Generate random data for studies only mock\n",
    "datas = [\n",
    "    \"Czy istnieje uczelnia o nazwie {university_name} w {city}?\",\n",
    "    \"Czy uczelnia {university_name} znajduje się w {city}?\",\n",
    "    \"Czy uczelnia {university_name} oferuje kierunek studiów na {kierunek}?\",\n",
    "    \"Czy uczelnia {university_name} w {city} oferuje zarówno studia dzienne, jak i zaoczne?\",\n",
    "    \"Jakie są perspektywy zawodowe po ukończeniu studiów na uczelni {university_name} w {city}?\",\n",
    "    \"Pokaz dostepne uczelnie w {city}\",\n",
    "    \"Pokaz informacje o uczelni {university_name}\",\n",
    "    \"Uczelnia {university_name}\",\n",
    "    \"Kierunki studiow w {city}\"\n",
    "]\n",
    "\n",
    "parsed_results = []\n",
    "\n",
    "with open('res.txt', 'w+') as file:\n",
    "    file.write(\"[\")\n",
    "    for study_name in study_names:\n",
    "        for word in datas:\n",
    "            start_index = word.find(\"{university_name}\")\n",
    "            end_index = start_index + len(study_name)\n",
    "            content = word.replace(\"{university_name}\", study_name).replace(\"{city}\", \"Krakow\")\n",
    "\n",
    "            test_data = template.replace(\"{uuid1}\", str(uuid.uuid1())) \\\n",
    "                .replace(\"{uuid2}\", str(uuid.uuid1())) \\\n",
    "                .replace(\"{uuid3}\", str(uuid.uuid1())) \\\n",
    "                .replace(\"{university_tag_id}\", university_tag_id) \\\n",
    "                .replace(\"{content}\", content) \\\n",
    "                .replace(\"{name}\", study_name) \\\n",
    "                .replace(\"{start}\", str(start_index)) \\\n",
    "                .replace(\"{end}\", str(end_index))\n",
    "\n",
    "            parsed_results.append(test_data)\n",
    "\n",
    "            file.write(test_data)\n",
    "            file.write(\",\")\n",
    "\n",
    "    file.write(\"]\")\n"
   ],
   "metadata": {
    "collapsed": false,
    "pycharm": {
     "is_executing": true
    }
   }
  },
  {
   "cell_type": "code",
   "execution_count": null,
   "outputs": [],
   "source": [
    "### Generate random data for studies only mock\n",
    "datas = [\"Pokaz mi {kierunek} w {city}\",\n",
    "         \"Studiowanie {kierunek} w {city}\",\n",
    "         ]\n",
    "\n",
    "with open('res.txt', 'w+') as file:\n",
    "    for data in datas:\n",
    "        for city_name in city_names:\n",
    "            start_index = word.find(\"{city}\")\n",
    "            end_index = start_index + len(city_name)\n",
    "            content = word.replace(\"{city}\", city_name)\n",
    "\n",
    "            test_data = city_university_template.replace(\"{uuid1}\", str(uuid.uuid1())) \\\n",
    "                .replace(\"{uuid2}\", str(uuid.uuid1())) \\\n",
    "                .replace(\"{uuid3}\", str(uuid.uuid1())) \\\n",
    "                .replace(\"{content}\", content) \\\n",
    "                .replace(\"{name}\", city_name) \\\n",
    "                .replace(\"{start}\", str(start_index)) \\\n",
    "                .replace(\"{end}\", str(end_index))\n",
    "\n",
    "            file.write(test_data)\n",
    "            file.write(\",\")"
   ],
   "metadata": {
    "collapsed": false,
    "pycharm": {
     "is_executing": true
    }
   }
  },
  {
   "cell_type": "code",
   "execution_count": null,
   "outputs": [],
   "source": [
    "parsed_values = [x[\"fieldName\"] for x in fieldOfStudiesDict.values()]"
   ],
   "metadata": {
    "collapsed": false
   }
  },
  {
   "cell_type": "code",
   "execution_count": null,
   "outputs": [],
   "source": [
    "city_kierunek_template"
   ],
   "metadata": {
    "collapsed": false
   }
  },
  {
   "cell_type": "code",
   "execution_count": null,
   "outputs": [],
   "source": [
    "### Generate random data for subject and cities mock\n",
    "datas = [\"Pokaz mi {kierunek} w {city}\",\n",
    "         \"Studiowanie {kierunek} w {city}\"]\n",
    "\n",
    "with open('res.txt', 'w+') as file:\n",
    "    for data in datas:\n",
    "        for subject in parsed_values:\n",
    "            for city_name in list(city_names):\n",
    "\n",
    "                start_index_k = data.find(\"{kierunek}\")\n",
    "                end_index_k = start_index_k + len(subject)\n",
    "                content_k =  data.replace(\"{kierunek}\", subject)\n",
    "\n",
    "                start_index = content_k.find(\"{city}\")\n",
    "                end_index = start_index + len(city_name)\n",
    "                content = content_k.replace(\"{city}\", city_name)\n",
    "\n",
    "                # print(content_k)\n",
    "                test_data = city_kierunek_template.replace(\"{uuid1}\", str(uuid.uuid1())) \\\n",
    "                    .replace(\"{uuid2}\", str(uuid.uuid1())) \\\n",
    "                    .replace(\"{uuid3}\", str(uuid.uuid1())) \\\n",
    "                    .replace(\"{uuid11}\", str(uuid.uuid1())) \\\n",
    "                    .replace(\"{uuid12}\", str(uuid.uuid1())) \\\n",
    "                    .replace(\"{city_end}\", str(end_index)) \\\n",
    "                    .replace(\"{city_start}\", str(start_index)) \\\n",
    "                    .replace(\"{city_name}\", city_name) \\\n",
    "                    .replace(\"{kier_end}\", str(end_index_k)) \\\n",
    "                    .replace(\"{kier_start}\", str(start_index_k)) \\\n",
    "                    .replace(\"{content}\", content_k) \\\n",
    "                    .replace(\"{city}\", city_name) \\\n",
    "                    .replace(\"{kierunek_name}\", subject) \\\n",
    "                    .replace(\"{start}\", str(start_index)) \\\n",
    "                    .replace(\"{end}\", str(end_index))\n",
    "\n",
    "                file.write(test_data)\n",
    "                file.write(\",\")"
   ],
   "metadata": {
    "collapsed": false,
    "pycharm": {
     "is_executing": true
    }
   }
  },
  {
   "cell_type": "code",
   "execution_count": null,
   "outputs": [],
   "source": [
    "import json\n",
    "\n",
    "with open('json.txt', 'r') as file:\n",
    "    data = file.read()"
   ],
   "metadata": {
    "collapsed": false
   }
  },
  {
   "cell_type": "code",
   "execution_count": null,
   "outputs": [],
   "source": [
    "data = data.replace(\"\\n\", \"\")"
   ],
   "metadata": {
    "collapsed": false
   }
  },
  {
   "cell_type": "code",
   "execution_count": null,
   "outputs": [],
   "source": [
    "data = json.loads(data)"
   ],
   "metadata": {
    "collapsed": false
   }
  },
  {
   "cell_type": "code",
   "execution_count": null,
   "outputs": [],
   "source": [],
   "metadata": {
    "collapsed": false
   }
  },
  {
   "cell_type": "code",
   "execution_count": null,
   "outputs": [],
   "source": [
    "fieldOfStudiesDict = {}\n",
    "study_names = [x.strip() for x in study_names]\n",
    "\n",
    "for record in data:\n",
    "    if record[\"university\"] in study_names:\n",
    "        fieldOfStudiesDict[record[\"university\"]] = record"
   ],
   "metadata": {
    "collapsed": false
   }
  },
  {
   "cell_type": "code",
   "execution_count": null,
   "outputs": [],
   "source": [
    "print(fieldOfStudiesDict)"
   ],
   "metadata": {
    "collapsed": false
   }
  },
  {
   "cell_type": "code",
   "execution_count": null,
   "outputs": [],
   "source": [],
   "metadata": {
    "collapsed": false
   }
  }
 ],
 "metadata": {
  "kernelspec": {
   "display_name": "Python 3",
   "language": "python",
   "name": "python3"
  },
  "language_info": {
   "codemirror_mode": {
    "name": "ipython",
    "version": 2
   },
   "file_extension": ".py",
   "mimetype": "text/x-python",
   "name": "python",
   "nbconvert_exporter": "python",
   "pygments_lexer": "ipython2",
   "version": "2.7.6"
  }
 },
 "nbformat": 4,
 "nbformat_minor": 0
}
