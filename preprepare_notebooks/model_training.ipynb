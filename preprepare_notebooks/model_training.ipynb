{
 "cells": [
  {
   "cell_type": "code",
   "execution_count": 1,
   "metadata": {
    "collapsed": true
   },
   "outputs": [],
   "source": [
    "from __future__ import unicode_literals, print_function\n",
    "import plac\n",
    "import random\n",
    "from pathlib import Path\n",
    "import spacy\n",
    "from tqdm import tqdm"
   ]
  },
  {
   "cell_type": "code",
   "execution_count": 24,
   "outputs": [
    {
     "name": "stdout",
     "output_type": "stream",
     "text": [
      "{'id': '0825a1bf-6a6e-4fa2-be77-8d104701eaed', 'content': 'Cześć, jestem osobą szukającą informacji o studiach na uczelni Akademia Górniczo-Hutnicza im. Stanisława Staszica w Krakowie.', 'metadata': {}, 'annotations': [{'id': '0825a1bf-6a6e-4fa2-be77-8d104701eaed', 'tag_id': 'c06bd022-6ded-44a5-8d90-f17685bb85a1', 'end': 98, 'start': 40, 'example_id': '0825a1bf-6a6e-4fa2-be77-8d104701eaed', 'tag_name': 'University', 'value': 'Akademia Górniczo-Hutnicza im. Stanisława Staszica w Krakowie', 'correct': None, 'human_annotations': [{'timestamp': '2020-03-21T00:24:32.098000Z', 'annotator_id': 1, 'tagged_token_id': '0825a1bf-6a6e-4fa2-be77-8d104701eaed', 'name': 'Ashpat123', 'reason': 'exploration'}], 'model_annotations': []}], 'classifications': []}\n"
     ]
    }
   ],
   "source": [
    "import json\n",
    "\n",
    "with open('training_data.json', 'r') as f:\n",
    "    data = json.load(f)\n",
    "\n",
    "print(data['examples'][0])"
   ],
   "metadata": {
    "collapsed": false
   }
  },
  {
   "cell_type": "code",
   "execution_count": 25,
   "outputs": [
    {
     "name": "stdout",
     "output_type": "stream",
     "text": [
      "{'text': 'Cześć, jestem osobą szukającą informacji o studiach na uczelni Akademia Górniczo-Hutnicza im. Stanisława Staszica w Krakowie.', 'entities': [(40, 98, 'UNIVERSITY')]}\n"
     ]
    }
   ],
   "source": [
    "training_data = {'classes' : ['UNIVERSITY'], 'annotations' : []}\n",
    "for example in data['examples']:\n",
    "  temp_dict = {}\n",
    "  temp_dict['text'] = example['content']\n",
    "  temp_dict['entities'] = []\n",
    "  for annotation in example['annotations']:\n",
    "    start = annotation['start']\n",
    "    end = annotation['end']\n",
    "    label = annotation['tag_name'].upper()\n",
    "    temp_dict['entities'].append((start, end, label))\n",
    "  training_data['annotations'].append(temp_dict)\n",
    "\n",
    "print(training_data['annotations'][0])"
   ],
   "metadata": {
    "collapsed": false
   }
  },
  {
   "cell_type": "code",
   "execution_count": 26,
   "outputs": [],
   "source": [
    "import spacy\n",
    "from spacy.tokens import DocBin\n",
    "from tqdm import tqdm\n",
    "\n",
    "nlp = spacy.blank(\"pl\") # load a new spacy model\n",
    "doc_bin = DocBin() # create a DocBin object"
   ],
   "metadata": {
    "collapsed": false
   }
  },
  {
   "cell_type": "code",
   "execution_count": 27,
   "outputs": [
    {
     "name": "stderr",
     "output_type": "stream",
     "text": [
      "100%|██████████| 14/14 [00:00<00:00, 1664.26it/s]\n"
     ]
    }
   ],
   "source": [
    "from spacy.util import filter_spans\n",
    "\n",
    "for training_example  in tqdm(training_data['annotations']):\n",
    "    text = training_example['text']\n",
    "    labels = training_example['entities']\n",
    "    doc = nlp.make_doc(text)\n",
    "    ents = []\n",
    "    for start, end, label in labels:\n",
    "        span = doc.char_span(start, end, label=label, alignment_mode=\"contract\")\n",
    "        if span is None:\n",
    "            print(\"Skipping entity\")\n",
    "        else:\n",
    "            ents.append(span)\n",
    "    filtered_ents = filter_spans(ents)\n",
    "    doc.ents = filtered_ents\n",
    "    doc_bin.add(doc)\n",
    "\n",
    "doc_bin.to_disk(\"training_data.spacy\") # save the docbin object"
   ],
   "metadata": {
    "collapsed": false
   }
  },
  {
   "cell_type": "code",
   "execution_count": 99,
   "outputs": [],
   "source": [
    "import spacy_transformers"
   ],
   "metadata": {
    "collapsed": false
   }
  },
  {
   "cell_type": "code",
   "execution_count": 116,
   "outputs": [
    {
     "ename": "AttributeError",
     "evalue": "'NoneType' object has no attribute 'full'",
     "output_type": "error",
     "traceback": [
      "\u001B[0;31m---------------------------------------------------------------------------\u001B[0m",
      "\u001B[0;31mAttributeError\u001B[0m                            Traceback (most recent call last)",
      "Cell \u001B[0;32mIn[116], line 1\u001B[0m\n\u001B[0;32m----> 1\u001B[0m nlp_ner \u001B[38;5;241m=\u001B[39m \u001B[43mspacy\u001B[49m\u001B[38;5;241;43m.\u001B[39;49m\u001B[43mload\u001B[49m\u001B[43m(\u001B[49m\u001B[38;5;124;43m\"\u001B[39;49m\u001B[38;5;124;43mmodel-best\u001B[39;49m\u001B[38;5;124;43m\"\u001B[39;49m\u001B[43m)\u001B[49m\n",
      "File \u001B[0;32m~/Library/Python/3.10/lib/python/site-packages/spacy/__init__.py:51\u001B[0m, in \u001B[0;36mload\u001B[0;34m(name, vocab, disable, enable, exclude, config)\u001B[0m\n\u001B[1;32m     27\u001B[0m \u001B[38;5;28;01mdef\u001B[39;00m \u001B[38;5;21mload\u001B[39m(\n\u001B[1;32m     28\u001B[0m     name: Union[\u001B[38;5;28mstr\u001B[39m, Path],\n\u001B[1;32m     29\u001B[0m     \u001B[38;5;241m*\u001B[39m,\n\u001B[0;32m   (...)\u001B[0m\n\u001B[1;32m     34\u001B[0m     config: Union[Dict[\u001B[38;5;28mstr\u001B[39m, Any], Config] \u001B[38;5;241m=\u001B[39m util\u001B[38;5;241m.\u001B[39mSimpleFrozenDict(),\n\u001B[1;32m     35\u001B[0m ) \u001B[38;5;241m-\u001B[39m\u001B[38;5;241m>\u001B[39m Language:\n\u001B[1;32m     36\u001B[0m \u001B[38;5;250m    \u001B[39m\u001B[38;5;124;03m\"\"\"Load a spaCy model from an installed package or a local path.\u001B[39;00m\n\u001B[1;32m     37\u001B[0m \n\u001B[1;32m     38\u001B[0m \u001B[38;5;124;03m    name (str): Package name or model path.\u001B[39;00m\n\u001B[0;32m   (...)\u001B[0m\n\u001B[1;32m     49\u001B[0m \u001B[38;5;124;03m    RETURNS (Language): The loaded nlp object.\u001B[39;00m\n\u001B[1;32m     50\u001B[0m \u001B[38;5;124;03m    \"\"\"\u001B[39;00m\n\u001B[0;32m---> 51\u001B[0m     \u001B[38;5;28;01mreturn\u001B[39;00m \u001B[43mutil\u001B[49m\u001B[38;5;241;43m.\u001B[39;49m\u001B[43mload_model\u001B[49m\u001B[43m(\u001B[49m\n\u001B[1;32m     52\u001B[0m \u001B[43m        \u001B[49m\u001B[43mname\u001B[49m\u001B[43m,\u001B[49m\n\u001B[1;32m     53\u001B[0m \u001B[43m        \u001B[49m\u001B[43mvocab\u001B[49m\u001B[38;5;241;43m=\u001B[39;49m\u001B[43mvocab\u001B[49m\u001B[43m,\u001B[49m\n\u001B[1;32m     54\u001B[0m \u001B[43m        \u001B[49m\u001B[43mdisable\u001B[49m\u001B[38;5;241;43m=\u001B[39;49m\u001B[43mdisable\u001B[49m\u001B[43m,\u001B[49m\n\u001B[1;32m     55\u001B[0m \u001B[43m        \u001B[49m\u001B[43menable\u001B[49m\u001B[38;5;241;43m=\u001B[39;49m\u001B[43menable\u001B[49m\u001B[43m,\u001B[49m\n\u001B[1;32m     56\u001B[0m \u001B[43m        \u001B[49m\u001B[43mexclude\u001B[49m\u001B[38;5;241;43m=\u001B[39;49m\u001B[43mexclude\u001B[49m\u001B[43m,\u001B[49m\n\u001B[1;32m     57\u001B[0m \u001B[43m        \u001B[49m\u001B[43mconfig\u001B[49m\u001B[38;5;241;43m=\u001B[39;49m\u001B[43mconfig\u001B[49m\u001B[43m,\u001B[49m\n\u001B[1;32m     58\u001B[0m \u001B[43m    \u001B[49m\u001B[43m)\u001B[49m\n",
      "File \u001B[0;32m~/Library/Python/3.10/lib/python/site-packages/spacy/util.py:467\u001B[0m, in \u001B[0;36mload_model\u001B[0;34m(name, vocab, disable, enable, exclude, config)\u001B[0m\n\u001B[1;32m    465\u001B[0m         \u001B[38;5;28;01mreturn\u001B[39;00m load_model_from_package(name, \u001B[38;5;241m*\u001B[39m\u001B[38;5;241m*\u001B[39mkwargs)  \u001B[38;5;66;03m# type: ignore[arg-type]\u001B[39;00m\n\u001B[1;32m    466\u001B[0m     \u001B[38;5;28;01mif\u001B[39;00m Path(name)\u001B[38;5;241m.\u001B[39mexists():  \u001B[38;5;66;03m# path to model data directory\u001B[39;00m\n\u001B[0;32m--> 467\u001B[0m         \u001B[38;5;28;01mreturn\u001B[39;00m \u001B[43mload_model_from_path\u001B[49m\u001B[43m(\u001B[49m\u001B[43mPath\u001B[49m\u001B[43m(\u001B[49m\u001B[43mname\u001B[49m\u001B[43m)\u001B[49m\u001B[43m,\u001B[49m\u001B[43m \u001B[49m\u001B[38;5;241;43m*\u001B[39;49m\u001B[38;5;241;43m*\u001B[39;49m\u001B[43mkwargs\u001B[49m\u001B[43m)\u001B[49m  \u001B[38;5;66;03m# type: ignore[arg-type]\u001B[39;00m\n\u001B[1;32m    468\u001B[0m \u001B[38;5;28;01melif\u001B[39;00m \u001B[38;5;28mhasattr\u001B[39m(name, \u001B[38;5;124m\"\u001B[39m\u001B[38;5;124mexists\u001B[39m\u001B[38;5;124m\"\u001B[39m):  \u001B[38;5;66;03m# Path or Path-like to model data\u001B[39;00m\n\u001B[1;32m    469\u001B[0m     \u001B[38;5;28;01mreturn\u001B[39;00m load_model_from_path(name, \u001B[38;5;241m*\u001B[39m\u001B[38;5;241m*\u001B[39mkwargs)  \u001B[38;5;66;03m# type: ignore[arg-type]\u001B[39;00m\n",
      "File \u001B[0;32m~/Library/Python/3.10/lib/python/site-packages/spacy/util.py:539\u001B[0m, in \u001B[0;36mload_model_from_path\u001B[0;34m(model_path, meta, vocab, disable, enable, exclude, config)\u001B[0m\n\u001B[1;32m    537\u001B[0m overrides \u001B[38;5;241m=\u001B[39m dict_to_dot(config, for_overrides\u001B[38;5;241m=\u001B[39m\u001B[38;5;28;01mTrue\u001B[39;00m)\n\u001B[1;32m    538\u001B[0m config \u001B[38;5;241m=\u001B[39m load_config(config_path, overrides\u001B[38;5;241m=\u001B[39moverrides)\n\u001B[0;32m--> 539\u001B[0m nlp \u001B[38;5;241m=\u001B[39m \u001B[43mload_model_from_config\u001B[49m\u001B[43m(\u001B[49m\n\u001B[1;32m    540\u001B[0m \u001B[43m    \u001B[49m\u001B[43mconfig\u001B[49m\u001B[43m,\u001B[49m\n\u001B[1;32m    541\u001B[0m \u001B[43m    \u001B[49m\u001B[43mvocab\u001B[49m\u001B[38;5;241;43m=\u001B[39;49m\u001B[43mvocab\u001B[49m\u001B[43m,\u001B[49m\n\u001B[1;32m    542\u001B[0m \u001B[43m    \u001B[49m\u001B[43mdisable\u001B[49m\u001B[38;5;241;43m=\u001B[39;49m\u001B[43mdisable\u001B[49m\u001B[43m,\u001B[49m\n\u001B[1;32m    543\u001B[0m \u001B[43m    \u001B[49m\u001B[43menable\u001B[49m\u001B[38;5;241;43m=\u001B[39;49m\u001B[43menable\u001B[49m\u001B[43m,\u001B[49m\n\u001B[1;32m    544\u001B[0m \u001B[43m    \u001B[49m\u001B[43mexclude\u001B[49m\u001B[38;5;241;43m=\u001B[39;49m\u001B[43mexclude\u001B[49m\u001B[43m,\u001B[49m\n\u001B[1;32m    545\u001B[0m \u001B[43m    \u001B[49m\u001B[43mmeta\u001B[49m\u001B[38;5;241;43m=\u001B[39;49m\u001B[43mmeta\u001B[49m\u001B[43m,\u001B[49m\n\u001B[1;32m    546\u001B[0m \u001B[43m\u001B[49m\u001B[43m)\u001B[49m\n\u001B[1;32m    547\u001B[0m \u001B[38;5;28;01mreturn\u001B[39;00m nlp\u001B[38;5;241m.\u001B[39mfrom_disk(model_path, exclude\u001B[38;5;241m=\u001B[39mexclude, overrides\u001B[38;5;241m=\u001B[39moverrides)\n",
      "File \u001B[0;32m~/Library/Python/3.10/lib/python/site-packages/spacy/util.py:587\u001B[0m, in \u001B[0;36mload_model_from_config\u001B[0;34m(config, meta, vocab, disable, enable, exclude, auto_fill, validate)\u001B[0m\n\u001B[1;32m    584\u001B[0m \u001B[38;5;66;03m# This will automatically handle all codes registered via the languages\u001B[39;00m\n\u001B[1;32m    585\u001B[0m \u001B[38;5;66;03m# registry, including custom subclasses provided via entry points\u001B[39;00m\n\u001B[1;32m    586\u001B[0m lang_cls \u001B[38;5;241m=\u001B[39m get_lang_class(nlp_config[\u001B[38;5;124m\"\u001B[39m\u001B[38;5;124mlang\u001B[39m\u001B[38;5;124m\"\u001B[39m])\n\u001B[0;32m--> 587\u001B[0m nlp \u001B[38;5;241m=\u001B[39m \u001B[43mlang_cls\u001B[49m\u001B[38;5;241;43m.\u001B[39;49m\u001B[43mfrom_config\u001B[49m\u001B[43m(\u001B[49m\n\u001B[1;32m    588\u001B[0m \u001B[43m    \u001B[49m\u001B[43mconfig\u001B[49m\u001B[43m,\u001B[49m\n\u001B[1;32m    589\u001B[0m \u001B[43m    \u001B[49m\u001B[43mvocab\u001B[49m\u001B[38;5;241;43m=\u001B[39;49m\u001B[43mvocab\u001B[49m\u001B[43m,\u001B[49m\n\u001B[1;32m    590\u001B[0m \u001B[43m    \u001B[49m\u001B[43mdisable\u001B[49m\u001B[38;5;241;43m=\u001B[39;49m\u001B[43mdisable\u001B[49m\u001B[43m,\u001B[49m\n\u001B[1;32m    591\u001B[0m \u001B[43m    \u001B[49m\u001B[43menable\u001B[49m\u001B[38;5;241;43m=\u001B[39;49m\u001B[43menable\u001B[49m\u001B[43m,\u001B[49m\n\u001B[1;32m    592\u001B[0m \u001B[43m    \u001B[49m\u001B[43mexclude\u001B[49m\u001B[38;5;241;43m=\u001B[39;49m\u001B[43mexclude\u001B[49m\u001B[43m,\u001B[49m\n\u001B[1;32m    593\u001B[0m \u001B[43m    \u001B[49m\u001B[43mauto_fill\u001B[49m\u001B[38;5;241;43m=\u001B[39;49m\u001B[43mauto_fill\u001B[49m\u001B[43m,\u001B[49m\n\u001B[1;32m    594\u001B[0m \u001B[43m    \u001B[49m\u001B[43mvalidate\u001B[49m\u001B[38;5;241;43m=\u001B[39;49m\u001B[43mvalidate\u001B[49m\u001B[43m,\u001B[49m\n\u001B[1;32m    595\u001B[0m \u001B[43m    \u001B[49m\u001B[43mmeta\u001B[49m\u001B[38;5;241;43m=\u001B[39;49m\u001B[43mmeta\u001B[49m\u001B[43m,\u001B[49m\n\u001B[1;32m    596\u001B[0m \u001B[43m\u001B[49m\u001B[43m)\u001B[49m\n\u001B[1;32m    597\u001B[0m \u001B[38;5;28;01mreturn\u001B[39;00m nlp\n",
      "File \u001B[0;32m~/Library/Python/3.10/lib/python/site-packages/spacy/language.py:1847\u001B[0m, in \u001B[0;36mLanguage.from_config\u001B[0;34m(cls, config, vocab, disable, enable, exclude, meta, auto_fill, validate)\u001B[0m\n\u001B[1;32m   1844\u001B[0m     factory \u001B[38;5;241m=\u001B[39m pipe_cfg\u001B[38;5;241m.\u001B[39mpop(\u001B[38;5;124m\"\u001B[39m\u001B[38;5;124mfactory\u001B[39m\u001B[38;5;124m\"\u001B[39m)\n\u001B[1;32m   1845\u001B[0m     \u001B[38;5;66;03m# The pipe name (key in the config) here is the unique name\u001B[39;00m\n\u001B[1;32m   1846\u001B[0m     \u001B[38;5;66;03m# of the component, not necessarily the factory\u001B[39;00m\n\u001B[0;32m-> 1847\u001B[0m     \u001B[43mnlp\u001B[49m\u001B[38;5;241;43m.\u001B[39;49m\u001B[43madd_pipe\u001B[49m\u001B[43m(\u001B[49m\n\u001B[1;32m   1848\u001B[0m \u001B[43m        \u001B[49m\u001B[43mfactory\u001B[49m\u001B[43m,\u001B[49m\n\u001B[1;32m   1849\u001B[0m \u001B[43m        \u001B[49m\u001B[43mname\u001B[49m\u001B[38;5;241;43m=\u001B[39;49m\u001B[43mpipe_name\u001B[49m\u001B[43m,\u001B[49m\n\u001B[1;32m   1850\u001B[0m \u001B[43m        \u001B[49m\u001B[43mconfig\u001B[49m\u001B[38;5;241;43m=\u001B[39;49m\u001B[43mpipe_cfg\u001B[49m\u001B[43m,\u001B[49m\n\u001B[1;32m   1851\u001B[0m \u001B[43m        \u001B[49m\u001B[43mvalidate\u001B[49m\u001B[38;5;241;43m=\u001B[39;49m\u001B[43mvalidate\u001B[49m\u001B[43m,\u001B[49m\n\u001B[1;32m   1852\u001B[0m \u001B[43m        \u001B[49m\u001B[43mraw_config\u001B[49m\u001B[38;5;241;43m=\u001B[39;49m\u001B[43mraw_config\u001B[49m\u001B[43m,\u001B[49m\n\u001B[1;32m   1853\u001B[0m \u001B[43m    \u001B[49m\u001B[43m)\u001B[49m\n\u001B[1;32m   1854\u001B[0m \u001B[38;5;28;01melse\u001B[39;00m:\n\u001B[1;32m   1855\u001B[0m     \u001B[38;5;28;01massert\u001B[39;00m \u001B[38;5;124m\"\u001B[39m\u001B[38;5;124msource\u001B[39m\u001B[38;5;124m\"\u001B[39m \u001B[38;5;129;01min\u001B[39;00m pipe_cfg\n",
      "File \u001B[0;32m~/Library/Python/3.10/lib/python/site-packages/spacy/language.py:814\u001B[0m, in \u001B[0;36mLanguage.add_pipe\u001B[0;34m(self, factory_name, name, before, after, first, last, source, config, raw_config, validate)\u001B[0m\n\u001B[1;32m    810\u001B[0m     pipe_component, factory_name \u001B[38;5;241m=\u001B[39m \u001B[38;5;28mself\u001B[39m\u001B[38;5;241m.\u001B[39mcreate_pipe_from_source(\n\u001B[1;32m    811\u001B[0m         factory_name, source, name\u001B[38;5;241m=\u001B[39mname\n\u001B[1;32m    812\u001B[0m     )\n\u001B[1;32m    813\u001B[0m \u001B[38;5;28;01melse\u001B[39;00m:\n\u001B[0;32m--> 814\u001B[0m     pipe_component \u001B[38;5;241m=\u001B[39m \u001B[38;5;28;43mself\u001B[39;49m\u001B[38;5;241;43m.\u001B[39;49m\u001B[43mcreate_pipe\u001B[49m\u001B[43m(\u001B[49m\n\u001B[1;32m    815\u001B[0m \u001B[43m        \u001B[49m\u001B[43mfactory_name\u001B[49m\u001B[43m,\u001B[49m\n\u001B[1;32m    816\u001B[0m \u001B[43m        \u001B[49m\u001B[43mname\u001B[49m\u001B[38;5;241;43m=\u001B[39;49m\u001B[43mname\u001B[49m\u001B[43m,\u001B[49m\n\u001B[1;32m    817\u001B[0m \u001B[43m        \u001B[49m\u001B[43mconfig\u001B[49m\u001B[38;5;241;43m=\u001B[39;49m\u001B[43mconfig\u001B[49m\u001B[43m,\u001B[49m\n\u001B[1;32m    818\u001B[0m \u001B[43m        \u001B[49m\u001B[43mraw_config\u001B[49m\u001B[38;5;241;43m=\u001B[39;49m\u001B[43mraw_config\u001B[49m\u001B[43m,\u001B[49m\n\u001B[1;32m    819\u001B[0m \u001B[43m        \u001B[49m\u001B[43mvalidate\u001B[49m\u001B[38;5;241;43m=\u001B[39;49m\u001B[43mvalidate\u001B[49m\u001B[43m,\u001B[49m\n\u001B[1;32m    820\u001B[0m \u001B[43m    \u001B[49m\u001B[43m)\u001B[49m\n\u001B[1;32m    821\u001B[0m pipe_index \u001B[38;5;241m=\u001B[39m \u001B[38;5;28mself\u001B[39m\u001B[38;5;241m.\u001B[39m_get_pipe_index(before, after, first, last)\n\u001B[1;32m    822\u001B[0m \u001B[38;5;28mself\u001B[39m\u001B[38;5;241m.\u001B[39m_pipe_meta[name] \u001B[38;5;241m=\u001B[39m \u001B[38;5;28mself\u001B[39m\u001B[38;5;241m.\u001B[39mget_factory_meta(factory_name)\n",
      "File \u001B[0;32m~/Library/Python/3.10/lib/python/site-packages/spacy/language.py:702\u001B[0m, in \u001B[0;36mLanguage.create_pipe\u001B[0;34m(self, factory_name, name, config, raw_config, validate)\u001B[0m\n\u001B[1;32m    699\u001B[0m cfg \u001B[38;5;241m=\u001B[39m {factory_name: config}\n\u001B[1;32m    700\u001B[0m \u001B[38;5;66;03m# We're calling the internal _fill here to avoid constructing the\u001B[39;00m\n\u001B[1;32m    701\u001B[0m \u001B[38;5;66;03m# registered functions twice\u001B[39;00m\n\u001B[0;32m--> 702\u001B[0m resolved \u001B[38;5;241m=\u001B[39m \u001B[43mregistry\u001B[49m\u001B[38;5;241;43m.\u001B[39;49m\u001B[43mresolve\u001B[49m\u001B[43m(\u001B[49m\u001B[43mcfg\u001B[49m\u001B[43m,\u001B[49m\u001B[43m \u001B[49m\u001B[43mvalidate\u001B[49m\u001B[38;5;241;43m=\u001B[39;49m\u001B[43mvalidate\u001B[49m\u001B[43m)\u001B[49m\n\u001B[1;32m    703\u001B[0m filled \u001B[38;5;241m=\u001B[39m registry\u001B[38;5;241m.\u001B[39mfill({\u001B[38;5;124m\"\u001B[39m\u001B[38;5;124mcfg\u001B[39m\u001B[38;5;124m\"\u001B[39m: cfg[factory_name]}, validate\u001B[38;5;241m=\u001B[39mvalidate)[\u001B[38;5;124m\"\u001B[39m\u001B[38;5;124mcfg\u001B[39m\u001B[38;5;124m\"\u001B[39m]\n\u001B[1;32m    704\u001B[0m filled \u001B[38;5;241m=\u001B[39m Config(filled)\n",
      "File \u001B[0;32m~/Library/Python/3.10/lib/python/site-packages/confection/__init__.py:756\u001B[0m, in \u001B[0;36mregistry.resolve\u001B[0;34m(cls, config, schema, overrides, validate)\u001B[0m\n\u001B[1;32m    747\u001B[0m \u001B[38;5;129m@classmethod\u001B[39m\n\u001B[1;32m    748\u001B[0m \u001B[38;5;28;01mdef\u001B[39;00m \u001B[38;5;21mresolve\u001B[39m(\n\u001B[1;32m    749\u001B[0m     \u001B[38;5;28mcls\u001B[39m,\n\u001B[0;32m   (...)\u001B[0m\n\u001B[1;32m    754\u001B[0m     validate: \u001B[38;5;28mbool\u001B[39m \u001B[38;5;241m=\u001B[39m \u001B[38;5;28;01mTrue\u001B[39;00m,\n\u001B[1;32m    755\u001B[0m ) \u001B[38;5;241m-\u001B[39m\u001B[38;5;241m>\u001B[39m Dict[\u001B[38;5;28mstr\u001B[39m, Any]:\n\u001B[0;32m--> 756\u001B[0m     resolved, _ \u001B[38;5;241m=\u001B[39m \u001B[38;5;28;43mcls\u001B[39;49m\u001B[38;5;241;43m.\u001B[39;49m\u001B[43m_make\u001B[49m\u001B[43m(\u001B[49m\n\u001B[1;32m    757\u001B[0m \u001B[43m        \u001B[49m\u001B[43mconfig\u001B[49m\u001B[43m,\u001B[49m\u001B[43m \u001B[49m\u001B[43mschema\u001B[49m\u001B[38;5;241;43m=\u001B[39;49m\u001B[43mschema\u001B[49m\u001B[43m,\u001B[49m\u001B[43m \u001B[49m\u001B[43moverrides\u001B[49m\u001B[38;5;241;43m=\u001B[39;49m\u001B[43moverrides\u001B[49m\u001B[43m,\u001B[49m\u001B[43m \u001B[49m\u001B[43mvalidate\u001B[49m\u001B[38;5;241;43m=\u001B[39;49m\u001B[43mvalidate\u001B[49m\u001B[43m,\u001B[49m\u001B[43m \u001B[49m\u001B[43mresolve\u001B[49m\u001B[38;5;241;43m=\u001B[39;49m\u001B[38;5;28;43;01mTrue\u001B[39;49;00m\n\u001B[1;32m    758\u001B[0m \u001B[43m    \u001B[49m\u001B[43m)\u001B[49m\n\u001B[1;32m    759\u001B[0m     \u001B[38;5;28;01mreturn\u001B[39;00m resolved\n",
      "File \u001B[0;32m~/Library/Python/3.10/lib/python/site-packages/confection/__init__.py:805\u001B[0m, in \u001B[0;36mregistry._make\u001B[0;34m(cls, config, schema, overrides, resolve, validate)\u001B[0m\n\u001B[1;32m    803\u001B[0m \u001B[38;5;28;01mif\u001B[39;00m \u001B[38;5;129;01mnot\u001B[39;00m is_interpolated:\n\u001B[1;32m    804\u001B[0m     config \u001B[38;5;241m=\u001B[39m Config(orig_config)\u001B[38;5;241m.\u001B[39minterpolate()\n\u001B[0;32m--> 805\u001B[0m filled, _, resolved \u001B[38;5;241m=\u001B[39m \u001B[38;5;28;43mcls\u001B[39;49m\u001B[38;5;241;43m.\u001B[39;49m\u001B[43m_fill\u001B[49m\u001B[43m(\u001B[49m\n\u001B[1;32m    806\u001B[0m \u001B[43m    \u001B[49m\u001B[43mconfig\u001B[49m\u001B[43m,\u001B[49m\u001B[43m \u001B[49m\u001B[43mschema\u001B[49m\u001B[43m,\u001B[49m\u001B[43m \u001B[49m\u001B[43mvalidate\u001B[49m\u001B[38;5;241;43m=\u001B[39;49m\u001B[43mvalidate\u001B[49m\u001B[43m,\u001B[49m\u001B[43m \u001B[49m\u001B[43moverrides\u001B[49m\u001B[38;5;241;43m=\u001B[39;49m\u001B[43moverrides\u001B[49m\u001B[43m,\u001B[49m\u001B[43m \u001B[49m\u001B[43mresolve\u001B[49m\u001B[38;5;241;43m=\u001B[39;49m\u001B[43mresolve\u001B[49m\n\u001B[1;32m    807\u001B[0m \u001B[43m\u001B[49m\u001B[43m)\u001B[49m\n\u001B[1;32m    808\u001B[0m filled \u001B[38;5;241m=\u001B[39m Config(filled, section_order\u001B[38;5;241m=\u001B[39msection_order)\n\u001B[1;32m    809\u001B[0m \u001B[38;5;66;03m# Check that overrides didn't include invalid properties not in config\u001B[39;00m\n",
      "File \u001B[0;32m~/Library/Python/3.10/lib/python/site-packages/confection/__init__.py:860\u001B[0m, in \u001B[0;36mregistry._fill\u001B[0;34m(cls, config, schema, validate, resolve, parent, overrides)\u001B[0m\n\u001B[1;32m    858\u001B[0m     schema\u001B[38;5;241m.\u001B[39m__fields__[key] \u001B[38;5;241m=\u001B[39m copy_model_field(field, Any)\n\u001B[1;32m    859\u001B[0m promise_schema \u001B[38;5;241m=\u001B[39m \u001B[38;5;28mcls\u001B[39m\u001B[38;5;241m.\u001B[39mmake_promise_schema(value, resolve\u001B[38;5;241m=\u001B[39mresolve)\n\u001B[0;32m--> 860\u001B[0m filled[key], validation[v_key], final[key] \u001B[38;5;241m=\u001B[39m \u001B[38;5;28;43mcls\u001B[39;49m\u001B[38;5;241;43m.\u001B[39;49m\u001B[43m_fill\u001B[49m\u001B[43m(\u001B[49m\n\u001B[1;32m    861\u001B[0m \u001B[43m    \u001B[49m\u001B[43mvalue\u001B[49m\u001B[43m,\u001B[49m\n\u001B[1;32m    862\u001B[0m \u001B[43m    \u001B[49m\u001B[43mpromise_schema\u001B[49m\u001B[43m,\u001B[49m\n\u001B[1;32m    863\u001B[0m \u001B[43m    \u001B[49m\u001B[43mvalidate\u001B[49m\u001B[38;5;241;43m=\u001B[39;49m\u001B[43mvalidate\u001B[49m\u001B[43m,\u001B[49m\n\u001B[1;32m    864\u001B[0m \u001B[43m    \u001B[49m\u001B[43mresolve\u001B[49m\u001B[38;5;241;43m=\u001B[39;49m\u001B[43mresolve\u001B[49m\u001B[43m,\u001B[49m\n\u001B[1;32m    865\u001B[0m \u001B[43m    \u001B[49m\u001B[43mparent\u001B[49m\u001B[38;5;241;43m=\u001B[39;49m\u001B[43mkey_parent\u001B[49m\u001B[43m,\u001B[49m\n\u001B[1;32m    866\u001B[0m \u001B[43m    \u001B[49m\u001B[43moverrides\u001B[49m\u001B[38;5;241;43m=\u001B[39;49m\u001B[43moverrides\u001B[49m\u001B[43m,\u001B[49m\n\u001B[1;32m    867\u001B[0m \u001B[43m\u001B[49m\u001B[43m)\u001B[49m\n\u001B[1;32m    868\u001B[0m reg_name, func_name \u001B[38;5;241m=\u001B[39m \u001B[38;5;28mcls\u001B[39m\u001B[38;5;241m.\u001B[39mget_constructor(final[key])\n\u001B[1;32m    869\u001B[0m args, kwargs \u001B[38;5;241m=\u001B[39m \u001B[38;5;28mcls\u001B[39m\u001B[38;5;241m.\u001B[39mparse_args(final[key])\n",
      "File \u001B[0;32m~/Library/Python/3.10/lib/python/site-packages/confection/__init__.py:877\u001B[0m, in \u001B[0;36mregistry._fill\u001B[0;34m(cls, config, schema, validate, resolve, parent, overrides)\u001B[0m\n\u001B[1;32m    874\u001B[0m     getter \u001B[38;5;241m=\u001B[39m \u001B[38;5;28mcls\u001B[39m\u001B[38;5;241m.\u001B[39mget(reg_name, func_name)\n\u001B[1;32m    875\u001B[0m     \u001B[38;5;66;03m# We don't want to try/except this and raise our own error\u001B[39;00m\n\u001B[1;32m    876\u001B[0m     \u001B[38;5;66;03m# here, because we want the traceback if the function fails.\u001B[39;00m\n\u001B[0;32m--> 877\u001B[0m     getter_result \u001B[38;5;241m=\u001B[39m \u001B[43mgetter\u001B[49m\u001B[43m(\u001B[49m\u001B[38;5;241;43m*\u001B[39;49m\u001B[43margs\u001B[49m\u001B[43m,\u001B[49m\u001B[43m \u001B[49m\u001B[38;5;241;43m*\u001B[39;49m\u001B[38;5;241;43m*\u001B[39;49m\u001B[43mkwargs\u001B[49m\u001B[43m)\u001B[49m\n\u001B[1;32m    878\u001B[0m \u001B[38;5;28;01melse\u001B[39;00m:\n\u001B[1;32m    879\u001B[0m     \u001B[38;5;66;03m# We're not resolving and calling the function, so replace\u001B[39;00m\n\u001B[1;32m    880\u001B[0m     \u001B[38;5;66;03m# the getter_result with a Promise class\u001B[39;00m\n\u001B[1;32m    881\u001B[0m     getter_result \u001B[38;5;241m=\u001B[39m Promise(\n\u001B[1;32m    882\u001B[0m         registry\u001B[38;5;241m=\u001B[39mreg_name, name\u001B[38;5;241m=\u001B[39mfunc_name, args\u001B[38;5;241m=\u001B[39margs, kwargs\u001B[38;5;241m=\u001B[39mkwargs\n\u001B[1;32m    883\u001B[0m     )\n",
      "File \u001B[0;32m~/Library/Python/3.10/lib/python/site-packages/spacy_transformers/architectures.py:235\u001B[0m, in \u001B[0;36mcreate_TransformerModel_v3\u001B[0;34m(name, get_spans, tokenizer_config, transformer_config, mixed_precision, grad_scaler_config)\u001B[0m\n\u001B[1;32m    200\u001B[0m \u001B[38;5;129m@registry\u001B[39m\u001B[38;5;241m.\u001B[39marchitectures\u001B[38;5;241m.\u001B[39mregister(\u001B[38;5;124m\"\u001B[39m\u001B[38;5;124mspacy-transformers.TransformerModel.v3\u001B[39m\u001B[38;5;124m\"\u001B[39m)\n\u001B[1;32m    201\u001B[0m \u001B[38;5;28;01mdef\u001B[39;00m \u001B[38;5;21mcreate_TransformerModel_v3\u001B[39m(\n\u001B[1;32m    202\u001B[0m     name: \u001B[38;5;28mstr\u001B[39m,\n\u001B[0;32m   (...)\u001B[0m\n\u001B[1;32m    207\u001B[0m     grad_scaler_config: \u001B[38;5;28mdict\u001B[39m \u001B[38;5;241m=\u001B[39m {},\n\u001B[1;32m    208\u001B[0m ) \u001B[38;5;241m-\u001B[39m\u001B[38;5;241m>\u001B[39m Model[List[Doc], FullTransformerBatch]:\n\u001B[1;32m    209\u001B[0m \u001B[38;5;250m    \u001B[39m\u001B[38;5;124;03m\"\"\"Pretrained transformer model that can be finetuned for downstream tasks.\u001B[39;00m\n\u001B[1;32m    210\u001B[0m \n\u001B[1;32m    211\u001B[0m \u001B[38;5;124;03m    name (str): Name of the pretrained Huggingface model to use.\u001B[39;00m\n\u001B[0;32m   (...)\u001B[0m\n\u001B[1;32m    233\u001B[0m \u001B[38;5;124;03m        `growth_interval` steps.\u001B[39;00m\n\u001B[1;32m    234\u001B[0m \u001B[38;5;124;03m    \"\"\"\u001B[39;00m\n\u001B[0;32m--> 235\u001B[0m     model \u001B[38;5;241m=\u001B[39m \u001B[43mTransformerModel\u001B[49m\u001B[43m(\u001B[49m\n\u001B[1;32m    236\u001B[0m \u001B[43m        \u001B[49m\u001B[43mname\u001B[49m\u001B[43m,\u001B[49m\n\u001B[1;32m    237\u001B[0m \u001B[43m        \u001B[49m\u001B[43mget_spans\u001B[49m\u001B[43m,\u001B[49m\n\u001B[1;32m    238\u001B[0m \u001B[43m        \u001B[49m\u001B[43mtokenizer_config\u001B[49m\u001B[43m,\u001B[49m\n\u001B[1;32m    239\u001B[0m \u001B[43m        \u001B[49m\u001B[43mtransformer_config\u001B[49m\u001B[43m,\u001B[49m\n\u001B[1;32m    240\u001B[0m \u001B[43m        \u001B[49m\u001B[43mmixed_precision\u001B[49m\u001B[43m,\u001B[49m\n\u001B[1;32m    241\u001B[0m \u001B[43m        \u001B[49m\u001B[43mgrad_scaler_config\u001B[49m\u001B[43m,\u001B[49m\n\u001B[1;32m    242\u001B[0m \u001B[43m    \u001B[49m\u001B[43m)\u001B[49m\n\u001B[1;32m    243\u001B[0m     \u001B[38;5;28;01mreturn\u001B[39;00m model\n",
      "File \u001B[0;32m~/Library/Python/3.10/lib/python/site-packages/spacy_transformers/layers/transformer_model.py:45\u001B[0m, in \u001B[0;36mTransformerModel.__init__\u001B[0;34m(self, name, get_spans, tokenizer_config, transformer_config, mixed_precision, grad_scaler_config)\u001B[0m\n\u001B[1;32m     34\u001B[0m \u001B[38;5;250m\u001B[39m\u001B[38;5;124;03m\"\"\"\u001B[39;00m\n\u001B[1;32m     35\u001B[0m \u001B[38;5;124;03mget_spans (Callable[[List[Doc]], List[Span]]):\u001B[39;00m\n\u001B[1;32m     36\u001B[0m \u001B[38;5;124;03m    A function to extract spans from the batch of Doc objects.\u001B[39;00m\n\u001B[0;32m   (...)\u001B[0m\n\u001B[1;32m     42\u001B[0m \u001B[38;5;124;03mtransformer_config (dict): Settings to pass to the transformers forward pass.\u001B[39;00m\n\u001B[1;32m     43\u001B[0m \u001B[38;5;124;03m\"\"\"\u001B[39;00m\n\u001B[1;32m     44\u001B[0m hf_model \u001B[38;5;241m=\u001B[39m HFObjects(\u001B[38;5;28;01mNone\u001B[39;00m, \u001B[38;5;28;01mNone\u001B[39;00m, \u001B[38;5;28;01mNone\u001B[39;00m, tokenizer_config, transformer_config)\n\u001B[0;32m---> 45\u001B[0m wrapper \u001B[38;5;241m=\u001B[39m \u001B[43mHFWrapper\u001B[49m\u001B[43m(\u001B[49m\n\u001B[1;32m     46\u001B[0m \u001B[43m    \u001B[49m\u001B[43mhf_model\u001B[49m\u001B[43m,\u001B[49m\n\u001B[1;32m     47\u001B[0m \u001B[43m    \u001B[49m\u001B[43mconvert_inputs\u001B[49m\u001B[38;5;241;43m=\u001B[39;49m\u001B[43m_convert_transformer_inputs\u001B[49m\u001B[43m,\u001B[49m\n\u001B[1;32m     48\u001B[0m \u001B[43m    \u001B[49m\u001B[43mconvert_outputs\u001B[49m\u001B[38;5;241;43m=\u001B[39;49m\u001B[43m_convert_transformer_outputs\u001B[49m\u001B[43m,\u001B[49m\n\u001B[1;32m     49\u001B[0m \u001B[43m    \u001B[49m\u001B[43mmixed_precision\u001B[49m\u001B[38;5;241;43m=\u001B[39;49m\u001B[43mmixed_precision\u001B[49m\u001B[43m,\u001B[49m\n\u001B[1;32m     50\u001B[0m \u001B[43m    \u001B[49m\u001B[43mgrad_scaler_config\u001B[49m\u001B[38;5;241;43m=\u001B[39;49m\u001B[43mgrad_scaler_config\u001B[49m\u001B[43m,\u001B[49m\n\u001B[1;32m     51\u001B[0m \u001B[43m\u001B[49m\u001B[43m)\u001B[49m\n\u001B[1;32m     52\u001B[0m \u001B[38;5;28msuper\u001B[39m()\u001B[38;5;241m.\u001B[39m\u001B[38;5;21m__init__\u001B[39m(\n\u001B[1;32m     53\u001B[0m     \u001B[38;5;124m\"\u001B[39m\u001B[38;5;124mtransformer\u001B[39m\u001B[38;5;124m\"\u001B[39m,\n\u001B[1;32m     54\u001B[0m     forward,\n\u001B[0;32m   (...)\u001B[0m\n\u001B[1;32m     66\u001B[0m     },\n\u001B[1;32m     67\u001B[0m )\n",
      "File \u001B[0;32m~/Library/Python/3.10/lib/python/site-packages/spacy_transformers/layers/hf_wrapper.py:55\u001B[0m, in \u001B[0;36mHFWrapper\u001B[0;34m(hf_model, convert_inputs, convert_outputs, mixed_precision, grad_scaler_config, config_cls, model_cls, tokenizer_cls)\u001B[0m\n\u001B[1;32m     47\u001B[0m \u001B[38;5;28;01mif\u001B[39;00m convert_outputs \u001B[38;5;129;01mis\u001B[39;00m \u001B[38;5;28;01mNone\u001B[39;00m:\n\u001B[1;32m     48\u001B[0m     convert_outputs \u001B[38;5;241m=\u001B[39m convert_pytorch_default_outputs\n\u001B[1;32m     50\u001B[0m \u001B[38;5;28;01mreturn\u001B[39;00m Model(\n\u001B[1;32m     51\u001B[0m     \u001B[38;5;124m\"\u001B[39m\u001B[38;5;124mhf-pytorch\u001B[39m\u001B[38;5;124m\"\u001B[39m,\n\u001B[1;32m     52\u001B[0m     pt_forward,\n\u001B[1;32m     53\u001B[0m     attrs\u001B[38;5;241m=\u001B[39m{\u001B[38;5;124m\"\u001B[39m\u001B[38;5;124mconvert_inputs\u001B[39m\u001B[38;5;124m\"\u001B[39m: convert_inputs, \u001B[38;5;124m\"\u001B[39m\u001B[38;5;124mconvert_outputs\u001B[39m\u001B[38;5;124m\"\u001B[39m: convert_outputs},\n\u001B[1;32m     54\u001B[0m     shims\u001B[38;5;241m=\u001B[39m[\n\u001B[0;32m---> 55\u001B[0m         \u001B[43mHFShim\u001B[49m\u001B[43m(\u001B[49m\n\u001B[1;32m     56\u001B[0m \u001B[43m            \u001B[49m\u001B[43mhf_model\u001B[49m\u001B[43m,\u001B[49m\n\u001B[1;32m     57\u001B[0m \u001B[43m            \u001B[49m\u001B[43mmixed_precision\u001B[49m\u001B[38;5;241;43m=\u001B[39;49m\u001B[43mmixed_precision\u001B[49m\u001B[43m,\u001B[49m\n\u001B[1;32m     58\u001B[0m \u001B[43m            \u001B[49m\u001B[43mgrad_scaler_config\u001B[49m\u001B[38;5;241;43m=\u001B[39;49m\u001B[43mgrad_scaler_config\u001B[49m\u001B[43m,\u001B[49m\n\u001B[1;32m     59\u001B[0m \u001B[43m            \u001B[49m\u001B[43mconfig_cls\u001B[49m\u001B[38;5;241;43m=\u001B[39;49m\u001B[43mconfig_cls\u001B[49m\u001B[43m,\u001B[49m\n\u001B[1;32m     60\u001B[0m \u001B[43m            \u001B[49m\u001B[43mmodel_cls\u001B[49m\u001B[38;5;241;43m=\u001B[39;49m\u001B[43mmodel_cls\u001B[49m\u001B[43m,\u001B[49m\n\u001B[1;32m     61\u001B[0m \u001B[43m            \u001B[49m\u001B[43mtokenizer_cls\u001B[49m\u001B[38;5;241;43m=\u001B[39;49m\u001B[43mtokenizer_cls\u001B[49m\u001B[43m,\u001B[49m\n\u001B[1;32m     62\u001B[0m \u001B[43m        \u001B[49m\u001B[43m)\u001B[49m\n\u001B[1;32m     63\u001B[0m     ],\n\u001B[1;32m     64\u001B[0m     dims\u001B[38;5;241m=\u001B[39m{\u001B[38;5;124m\"\u001B[39m\u001B[38;5;124mnI\u001B[39m\u001B[38;5;124m\"\u001B[39m: \u001B[38;5;28;01mNone\u001B[39;00m, \u001B[38;5;124m\"\u001B[39m\u001B[38;5;124mnO\u001B[39m\u001B[38;5;124m\"\u001B[39m: \u001B[38;5;28;01mNone\u001B[39;00m},\n\u001B[1;32m     65\u001B[0m )\n",
      "File \u001B[0;32m~/Library/Python/3.10/lib/python/site-packages/spacy_transformers/layers/hf_shim.py:46\u001B[0m, in \u001B[0;36mHFShim.__init__\u001B[0;34m(self, model, config, optimizer, mixed_precision, grad_scaler_config, config_cls, model_cls, tokenizer_cls)\u001B[0m\n\u001B[1;32m     38\u001B[0m \u001B[38;5;28;01mif\u001B[39;00m \u001B[38;5;124m\"\u001B[39m\u001B[38;5;124menabled\u001B[39m\u001B[38;5;124m\"\u001B[39m \u001B[38;5;129;01mnot\u001B[39;00m \u001B[38;5;129;01min\u001B[39;00m grad_scaler_config:\n\u001B[1;32m     39\u001B[0m     grad_scaler_config[\u001B[38;5;124m\"\u001B[39m\u001B[38;5;124menabled\u001B[39m\u001B[38;5;124m\"\u001B[39m] \u001B[38;5;241m=\u001B[39m mixed_precision\n\u001B[1;32m     41\u001B[0m \u001B[38;5;28msuper\u001B[39m()\u001B[38;5;241m.\u001B[39m\u001B[38;5;21m__init__\u001B[39m(\n\u001B[1;32m     42\u001B[0m     model\u001B[38;5;241m.\u001B[39mtransformer,\n\u001B[1;32m     43\u001B[0m     config,\n\u001B[1;32m     44\u001B[0m     optimizer,\n\u001B[1;32m     45\u001B[0m     mixed_precision,\n\u001B[0;32m---> 46\u001B[0m     grad_scaler\u001B[38;5;241m=\u001B[39m\u001B[43mPyTorchGradScaler\u001B[49m\u001B[43m(\u001B[49m\u001B[38;5;241;43m*\u001B[39;49m\u001B[38;5;241;43m*\u001B[39;49m\u001B[43mgrad_scaler_config\u001B[49m\u001B[43m)\u001B[49m,\n\u001B[1;32m     47\u001B[0m )\n",
      "File \u001B[0;32m~/Library/Python/3.10/lib/python/site-packages/thinc/shims/pytorch_grad_scaler.py:54\u001B[0m, in \u001B[0;36mPyTorchGradScaler.__init__\u001B[0;34m(self, enabled, init_scale, backoff_factor, growth_factor, growth_interval)\u001B[0m\n\u001B[1;32m     51\u001B[0m \u001B[38;5;28mself\u001B[39m\u001B[38;5;241m.\u001B[39m_backoff_factor \u001B[38;5;241m=\u001B[39m backoff_factor\n\u001B[1;32m     52\u001B[0m \u001B[38;5;28mself\u001B[39m\u001B[38;5;241m.\u001B[39m_growth_interval \u001B[38;5;241m=\u001B[39m growth_interval\n\u001B[0;32m---> 54\u001B[0m \u001B[38;5;28mself\u001B[39m\u001B[38;5;241m.\u001B[39m_growth_tracker \u001B[38;5;241m=\u001B[39m \u001B[43mtorch\u001B[49m\u001B[38;5;241;43m.\u001B[39;49m\u001B[43mfull\u001B[49m((\u001B[38;5;241m1\u001B[39m,), \u001B[38;5;241m0\u001B[39m, dtype\u001B[38;5;241m=\u001B[39mtorch\u001B[38;5;241m.\u001B[39mint)\n\u001B[1;32m     55\u001B[0m \u001B[38;5;28mself\u001B[39m\u001B[38;5;241m.\u001B[39m_scale \u001B[38;5;241m=\u001B[39m torch\u001B[38;5;241m.\u001B[39mfull((\u001B[38;5;241m1\u001B[39m,), init_scale)\n\u001B[1;32m     56\u001B[0m \u001B[38;5;28mself\u001B[39m\u001B[38;5;241m.\u001B[39m_found_inf \u001B[38;5;241m=\u001B[39m \u001B[38;5;28;01mFalse\u001B[39;00m\n",
      "\u001B[0;31mAttributeError\u001B[0m: 'NoneType' object has no attribute 'full'"
     ]
    }
   ],
   "source": [
    "nlp_ner = spacy.load(\"model-best\")\n"
   ],
   "metadata": {
    "collapsed": false
   }
  },
  {
   "cell_type": "code",
   "execution_count": 114,
   "outputs": [],
   "source": [
    "doc = nlp_ner(\"Dzień dobry, interesuję się studiami na Gdańskim Uniwersytecie Medycznym. Czy mogę dowiedzieć się, jakie kierunki są dostępne na tej uczelni?\")\n"
   ],
   "metadata": {
    "collapsed": false
   }
  },
  {
   "cell_type": "code",
   "execution_count": 39,
   "outputs": [],
   "source": [
    "# Write a function to display basic entity info:\n",
    "def show_ents(doc):\n",
    "    if doc.ents:\n",
    "        for ent in doc.ents:\n",
    "            print(ent.text+' - '+ent.label_+' - '+str(spacy.explain(ent.label_)))\n",
    "    else:\n",
    "        print('No named entities found.')"
   ],
   "metadata": {
    "collapsed": false
   }
  },
  {
   "cell_type": "code",
   "execution_count": 115,
   "outputs": [
    {
     "name": "stdout",
     "output_type": "stream",
     "text": [
      "No named entities found.\n"
     ]
    }
   ],
   "source": [
    "text = u'politechnika krakowska jest super'\n",
    "doc = nlp(text)\n",
    "\n",
    "show_ents(doc)"
   ],
   "metadata": {
    "collapsed": false
   }
  },
  {
   "cell_type": "code",
   "execution_count": 80,
   "outputs": [],
   "source": [
    "# Import PhraseMatcher and create a matcher object:\n",
    "from spacy.matcher import PhraseMatcher\n",
    "matcher = PhraseMatcher(nlp.vocab)\n",
    "\n",
    "# Create the desired phrase patterns:\n",
    "phrase_list = ['politechnika krakowska', 'politechnika-krakowska']\n",
    "phrase_patterns = [nlp(text) for text in phrase_list]\n",
    "\n"
   ],
   "metadata": {
    "collapsed": false
   }
  },
  {
   "cell_type": "code",
   "execution_count": 81,
   "outputs": [
    {
     "ename": "ValueError",
     "evalue": "[E1010] Unable to set entity information for token 0 which is included in more than one span in entities, blocked, missing or outside.",
     "output_type": "error",
     "traceback": [
      "\u001B[0;31m---------------------------------------------------------------------------\u001B[0m",
      "\u001B[0;31mValueError\u001B[0m                                Traceback (most recent call last)",
      "Cell \u001B[0;32mIn[81], line 10\u001B[0m\n\u001B[1;32m      7\u001B[0m new_ent \u001B[38;5;241m=\u001B[39m Span(doc, \u001B[38;5;241m0\u001B[39m, \u001B[38;5;241m1\u001B[39m, label\u001B[38;5;241m=\u001B[39muniversity)\n\u001B[1;32m      9\u001B[0m \u001B[38;5;66;03m# Add the entity to the existing Doc object\u001B[39;00m\n\u001B[0;32m---> 10\u001B[0m \u001B[43mdoc\u001B[49m\u001B[38;5;241;43m.\u001B[39;49m\u001B[43ments\u001B[49m \u001B[38;5;241m=\u001B[39m \u001B[38;5;28mlist\u001B[39m(doc\u001B[38;5;241m.\u001B[39ments) \u001B[38;5;241m+\u001B[39m [new_ent]\n",
      "File \u001B[0;32m~/Library/Python/3.10/lib/python/site-packages/spacy/tokens/doc.pyx:795\u001B[0m, in \u001B[0;36mspacy.tokens.doc.Doc.ents.__set__\u001B[0;34m()\u001B[0m\n",
      "File \u001B[0;32m~/Library/Python/3.10/lib/python/site-packages/spacy/tokens/doc.pyx:832\u001B[0m, in \u001B[0;36mspacy.tokens.doc.Doc.set_ents\u001B[0;34m()\u001B[0m\n",
      "\u001B[0;31mValueError\u001B[0m: [E1010] Unable to set entity information for token 0 which is included in more than one span in entities, blocked, missing or outside."
     ]
    }
   ],
   "source": [
    "from spacy.tokens import Span\n",
    "\n",
    "# Get the hash value of the ORG entity label\n",
    "university = doc.vocab.strings[u'UNIVERSITY']\n",
    "\n",
    "# Create a Span for the new entity\n",
    "new_ent = Span(doc, 0, 1, label=university)\n",
    "\n",
    "# Add the entity to the existing Doc object\n",
    "doc.ents = list(doc.ents) + [new_ent]"
   ],
   "metadata": {
    "collapsed": false
   }
  },
  {
   "cell_type": "code",
   "execution_count": 67,
   "outputs": [
    {
     "data": {
      "text/plain": "politechnika"
     },
     "execution_count": 67,
     "metadata": {},
     "output_type": "execute_result"
    }
   ],
   "source": [
    "new_ent"
   ],
   "metadata": {
    "collapsed": false
   }
  },
  {
   "cell_type": "code",
   "execution_count": 68,
   "outputs": [
    {
     "data": {
      "text/plain": "[politechnika krakowska, politechnika-krakowska]"
     },
     "execution_count": 68,
     "metadata": {},
     "output_type": "execute_result"
    }
   ],
   "source": [
    "phrase_patterns"
   ],
   "metadata": {
    "collapsed": false
   }
  },
  {
   "cell_type": "code",
   "execution_count": 70,
   "outputs": [
    {
     "data": {
      "text/plain": "[(7253297147861999825, 0, 2), (2156668014677468499, 0, 2)]"
     },
     "execution_count": 70,
     "metadata": {},
     "output_type": "execute_result"
    }
   ],
   "source": [
    "# Apply the patterns to our matcher object:\n",
    "matcher.add('poli', None, *phrase_patterns)\n",
    "\n",
    "# Apply the matcher to our Doc object:\n",
    "matches = matcher(doc)\n",
    "\n",
    "# See what matches occur:\n",
    "matches\n"
   ],
   "metadata": {
    "collapsed": false
   }
  },
  {
   "cell_type": "code",
   "execution_count": 73,
   "outputs": [],
   "source": [
    "\n",
    "# Here we create Spans from each match, and create named entities from them:\n",
    "from spacy.tokens import Span\n",
    "\n",
    "PROD = doc.vocab.strings[u'UNIVERSISTY']"
   ],
   "metadata": {
    "collapsed": false
   }
  },
  {
   "cell_type": "code",
   "execution_count": 79,
   "outputs": [
    {
     "ename": "ValueError",
     "evalue": "[E084] Error assigning label ID 15735286411066341544 to span: not in StringStore.",
     "output_type": "error",
     "traceback": [
      "\u001B[0;31m---------------------------------------------------------------------------\u001B[0m",
      "\u001B[0;31mValueError\u001B[0m                                Traceback (most recent call last)",
      "Cell \u001B[0;32mIn[79], line 1\u001B[0m\n\u001B[0;32m----> 1\u001B[0m new_ents \u001B[38;5;241m=\u001B[39m [Span(doc, match[\u001B[38;5;241m1\u001B[39m],match[\u001B[38;5;241m2\u001B[39m],label\u001B[38;5;241m=\u001B[39mPROD) \u001B[38;5;28;01mfor\u001B[39;00m match \u001B[38;5;129;01min\u001B[39;00m matches]\n\u001B[1;32m      2\u001B[0m new_ents\n",
      "Cell \u001B[0;32mIn[79], line 1\u001B[0m, in \u001B[0;36m<listcomp>\u001B[0;34m(.0)\u001B[0m\n\u001B[0;32m----> 1\u001B[0m new_ents \u001B[38;5;241m=\u001B[39m [\u001B[43mSpan\u001B[49m\u001B[43m(\u001B[49m\u001B[43mdoc\u001B[49m\u001B[43m,\u001B[49m\u001B[43m \u001B[49m\u001B[43mmatch\u001B[49m\u001B[43m[\u001B[49m\u001B[38;5;241;43m1\u001B[39;49m\u001B[43m]\u001B[49m\u001B[43m,\u001B[49m\u001B[43mmatch\u001B[49m\u001B[43m[\u001B[49m\u001B[38;5;241;43m2\u001B[39;49m\u001B[43m]\u001B[49m\u001B[43m,\u001B[49m\u001B[43mlabel\u001B[49m\u001B[38;5;241;43m=\u001B[39;49m\u001B[43mPROD\u001B[49m\u001B[43m)\u001B[49m \u001B[38;5;28;01mfor\u001B[39;00m match \u001B[38;5;129;01min\u001B[39;00m matches]\n\u001B[1;32m      2\u001B[0m new_ents\n",
      "File \u001B[0;32m~/Library/Python/3.10/lib/python/site-packages/spacy/tokens/span.pyx:110\u001B[0m, in \u001B[0;36mspacy.tokens.span.Span.__cinit__\u001B[0;34m()\u001B[0m\n",
      "\u001B[0;31mValueError\u001B[0m: [E084] Error assigning label ID 15735286411066341544 to span: not in StringStore."
     ]
    }
   ],
   "source": [
    "new_ents = [Span(doc, match[1],match[2],label=PROD) for match in matches]\n",
    "new_ents"
   ],
   "metadata": {
    "collapsed": false
   }
  },
  {
   "cell_type": "code",
   "execution_count": 74,
   "outputs": [
    {
     "ename": "ValueError",
     "evalue": "[E084] Error assigning label ID 15735286411066341544 to span: not in StringStore.",
     "output_type": "error",
     "traceback": [
      "\u001B[0;31m---------------------------------------------------------------------------\u001B[0m",
      "\u001B[0;31mValueError\u001B[0m                                Traceback (most recent call last)",
      "Cell \u001B[0;32mIn[74], line 1\u001B[0m\n\u001B[0;32m----> 1\u001B[0m new_ents \u001B[38;5;241m=\u001B[39m [Span(doc, match[\u001B[38;5;241m1\u001B[39m],match[\u001B[38;5;241m2\u001B[39m],label\u001B[38;5;241m=\u001B[39mPROD) \u001B[38;5;28;01mfor\u001B[39;00m match \u001B[38;5;129;01min\u001B[39;00m matches]\n\u001B[1;32m      3\u001B[0m doc\u001B[38;5;241m.\u001B[39ments \u001B[38;5;241m=\u001B[39m \u001B[38;5;28mlist\u001B[39m(doc\u001B[38;5;241m.\u001B[39ments) \u001B[38;5;241m+\u001B[39m new_ents\n\u001B[1;32m      5\u001B[0m show_ents(doc)\n",
      "Cell \u001B[0;32mIn[74], line 1\u001B[0m, in \u001B[0;36m<listcomp>\u001B[0;34m(.0)\u001B[0m\n\u001B[0;32m----> 1\u001B[0m new_ents \u001B[38;5;241m=\u001B[39m [\u001B[43mSpan\u001B[49m\u001B[43m(\u001B[49m\u001B[43mdoc\u001B[49m\u001B[43m,\u001B[49m\u001B[43m \u001B[49m\u001B[43mmatch\u001B[49m\u001B[43m[\u001B[49m\u001B[38;5;241;43m1\u001B[39;49m\u001B[43m]\u001B[49m\u001B[43m,\u001B[49m\u001B[43mmatch\u001B[49m\u001B[43m[\u001B[49m\u001B[38;5;241;43m2\u001B[39;49m\u001B[43m]\u001B[49m\u001B[43m,\u001B[49m\u001B[43mlabel\u001B[49m\u001B[38;5;241;43m=\u001B[39;49m\u001B[43mPROD\u001B[49m\u001B[43m)\u001B[49m \u001B[38;5;28;01mfor\u001B[39;00m match \u001B[38;5;129;01min\u001B[39;00m matches]\n\u001B[1;32m      3\u001B[0m doc\u001B[38;5;241m.\u001B[39ments \u001B[38;5;241m=\u001B[39m \u001B[38;5;28mlist\u001B[39m(doc\u001B[38;5;241m.\u001B[39ments) \u001B[38;5;241m+\u001B[39m new_ents\n\u001B[1;32m      5\u001B[0m show_ents(doc)\n",
      "File \u001B[0;32m~/Library/Python/3.10/lib/python/site-packages/spacy/tokens/span.pyx:110\u001B[0m, in \u001B[0;36mspacy.tokens.span.Span.__cinit__\u001B[0;34m()\u001B[0m\n",
      "\u001B[0;31mValueError\u001B[0m: [E084] Error assigning label ID 15735286411066341544 to span: not in StringStore."
     ]
    }
   ],
   "source": [
    "new_ents = [Span(doc, match[1],match[2],label=PROD) for match in matches]\n",
    "\n",
    "doc.ents = list(doc.ents) + new_ents\n",
    "\n",
    "show_ents(doc)"
   ],
   "metadata": {
    "collapsed": false
   }
  },
  {
   "cell_type": "code",
   "execution_count": 92,
   "outputs": [
    {
     "name": "stdout",
     "output_type": "stream",
     "text": [
      "No named entities found.\n"
     ]
    }
   ],
   "source": [
    "doc = nlp(u'Politechnika Krakowska jest super.')\n",
    "\n",
    "show_ents(doc)\n",
    "text = u'politechnika krakowska jest super.'"
   ],
   "metadata": {
    "collapsed": false
   }
  },
  {
   "cell_type": "code",
   "execution_count": 93,
   "outputs": [],
   "source": [
    "# Import PhraseMatcher and create a matcher object:\n",
    "from spacy.matcher import PhraseMatcher\n",
    "matcher = PhraseMatcher(nlp.vocab)"
   ],
   "metadata": {
    "collapsed": false
   }
  },
  {
   "cell_type": "code",
   "execution_count": 94,
   "outputs": [],
   "source": [
    "# Create the desired phrase patterns:\n",
    "phrase_list = ['politechnika krakowska', 'politechnika-krakowska']\n",
    "phrase_patterns = [nlp(text) for text in phrase_list]"
   ],
   "metadata": {
    "collapsed": false
   }
  },
  {
   "cell_type": "code",
   "execution_count": 95,
   "outputs": [
    {
     "data": {
      "text/plain": "[]"
     },
     "execution_count": 95,
     "metadata": {},
     "output_type": "execute_result"
    }
   ],
   "source": [
    "# Apply the patterns to our matcher object:\n",
    "matcher.add('newproduct', None, *phrase_patterns)\n",
    "\n",
    "# Apply the matcher to our Doc object:\n",
    "matches = matcher(doc)\n",
    "\n",
    "# See what matches occur:\n",
    "matches"
   ],
   "metadata": {
    "collapsed": false
   }
  },
  {
   "cell_type": "code",
   "execution_count": null,
   "outputs": [],
   "source": [],
   "metadata": {
    "collapsed": false
   }
  }
 ],
 "metadata": {
  "kernelspec": {
   "display_name": "Python 3",
   "language": "python",
   "name": "python3"
  },
  "language_info": {
   "codemirror_mode": {
    "name": "ipython",
    "version": 2
   },
   "file_extension": ".py",
   "mimetype": "text/x-python",
   "name": "python",
   "nbconvert_exporter": "python",
   "pygments_lexer": "ipython2",
   "version": "2.7.6"
  }
 },
 "nbformat": 4,
 "nbformat_minor": 0
}
