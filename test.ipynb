{
 "cells": [
  {
   "cell_type": "code",
   "execution_count": 6,
   "metadata": {
    "collapsed": true
   },
   "outputs": [
    {
     "name": "stdout",
     "output_type": "stream",
     "text": [
      "['tok2vec', 'tagger', 'parser', 'attribute_ruler', 'lemmatizer', 'ner']\n"
     ]
    }
   ],
   "source": [
    "\n",
    "import spacy\n",
    "\n",
    "nlp = spacy.load(\"en_core_web_sm\")\n",
    "text = \"What video sharing service did Steve Chen, Chad Hurley, and Jawed Karim create in 2005?\"\n",
    "\n",
    "doc = nlp(text)\n",
    "\n",
    "print(nlp.pipe_names)"
   ]
  },
  {
   "cell_type": "code",
   "execution_count": 7,
   "outputs": [
    {
     "data": {
      "text/plain": "<IPython.core.display.HTML object>",
      "text/html": "<span class=\"tex2jax_ignore\"><div class=\"entities\" style=\"line-height: 2.5; direction: ltr\">What video sharing service did \n<mark class=\"entity\" style=\"background: #aa9cfc; padding: 0.45em 0.6em; margin: 0 0.25em; line-height: 1; border-radius: 0.35em;\">\n    Steve Chen\n    <span style=\"font-size: 0.8em; font-weight: bold; line-height: 1; border-radius: 0.35em; vertical-align: middle; margin-left: 0.5rem\">PERSON</span>\n</mark>\n, \n<mark class=\"entity\" style=\"background: #aa9cfc; padding: 0.45em 0.6em; margin: 0 0.25em; line-height: 1; border-radius: 0.35em;\">\n    Chad Hurley\n    <span style=\"font-size: 0.8em; font-weight: bold; line-height: 1; border-radius: 0.35em; vertical-align: middle; margin-left: 0.5rem\">PERSON</span>\n</mark>\n, and \n<mark class=\"entity\" style=\"background: #aa9cfc; padding: 0.45em 0.6em; margin: 0 0.25em; line-height: 1; border-radius: 0.35em;\">\n    Jawed Karim\n    <span style=\"font-size: 0.8em; font-weight: bold; line-height: 1; border-radius: 0.35em; vertical-align: middle; margin-left: 0.5rem\">PERSON</span>\n</mark>\n create in \n<mark class=\"entity\" style=\"background: #bfe1d9; padding: 0.45em 0.6em; margin: 0 0.25em; line-height: 1; border-radius: 0.35em;\">\n    2005\n    <span style=\"font-size: 0.8em; font-weight: bold; line-height: 1; border-radius: 0.35em; vertical-align: middle; margin-left: 0.5rem\">DATE</span>\n</mark>\n?</div></span>"
     },
     "metadata": {},
     "output_type": "display_data"
    }
   ],
   "source": [
    "text = \"What video sharing service did Steve Chen, Chad Hurley, and Jawed Karim create in 2005?\"\n",
    "\n",
    "from spacy import displacy\n",
    "displacy.render(doc, style=\"ent\", jupyter=True)"
   ],
   "metadata": {
    "collapsed": false
   }
  },
  {
   "cell_type": "code",
   "execution_count": 5,
   "outputs": [
    {
     "data": {
      "text/plain": "<IPython.core.display.HTML object>",
      "text/html": "<span class=\"tex2jax_ignore\"><div class=\"entities\" style=\"line-height: 2.5; direction: ltr\">Antiretroviral therapy ( ART ) is recommended for all HIV-infected individuals</div></span>"
     },
     "metadata": {},
     "output_type": "display_data"
    }
   ],
   "source": [
    "string = \"Antiretroviral therapy ( ART ) is recommended for all HIV-infected individuals\"\n",
    "doc = nlp(string)\n",
    "displacy.render(doc, style=\"ent\", jupyter=True)"
   ],
   "metadata": {
    "collapsed": false
   }
  },
  {
   "cell_type": "code",
   "execution_count": 8,
   "outputs": [
    {
     "name": "stdout",
     "output_type": "stream",
     "text": [
      "{'id': '18c2f619-f102-452f-ab81-d26f7e283ffe', 'content': \"While bismuth compounds (Pepto-Bismol) decreased the number of bowel movements in those with travelers' diarrhea, they do not decrease the length of illness.[91] Anti-motility agents like loperamide are also effective at reducing the number of stools but not the duration of disease.[8] These agents should be used only if bloody diarrhea is not present.[92]\\n\\nDiosmectite, a natural aluminomagnesium silicate clay, is effective in alleviating symptoms of acute diarrhea in children,[93] and also has some effects in chronic functional diarrhea, radiation-induced diarrhea, and chemotherapy-induced diarrhea.[45] Another absorbent agent used for the treatment of mild diarrhea is kaopectate.\\n\\nRacecadotril an antisecretory medication may be used to treat diarrhea in children and adults.[86] It has better tolerability than loperamide, as it causes less constipation and flatulence.[94]\", 'metadata': {}, 'annotations': [{'id': '0825a1bf-6a6e-4fa2-be77-8d104701eaed', 'tag_id': 'c06bd022-6ded-44a5-8d90-f17685bb85a1', 'end': 371, 'start': 360, 'example_id': '18c2f619-f102-452f-ab81-d26f7e283ffe', 'tag_name': 'Medicine', 'value': 'Diosmectite', 'correct': None, 'human_annotations': [{'timestamp': '2020-03-21T00:24:32.098000Z', 'annotator_id': 1, 'tagged_token_id': '0825a1bf-6a6e-4fa2-be77-8d104701eaed', 'name': 'Ashpat123', 'reason': 'exploration'}], 'model_annotations': []}, {'id': '145f62b1-bbf5-42f1-8ad5-9c7e08337bf0', 'tag_id': 'c06bd022-6ded-44a5-8d90-f17685bb85a1', 'end': 408, 'start': 383, 'example_id': '18c2f619-f102-452f-ab81-d26f7e283ffe', 'tag_name': 'Medicine', 'value': 'aluminomagnesium silicate', 'correct': None, 'human_annotations': [{'timestamp': '2020-03-21T00:24:43.692000Z', 'annotator_id': 1, 'tagged_token_id': '145f62b1-bbf5-42f1-8ad5-9c7e08337bf0', 'name': 'Ashpat123', 'reason': 'exploration'}], 'model_annotations': []}, {'id': '243efeb2-723f-4be4-933c-fbbf7e0f9903', 'tag_id': '03eb3e50-d4d8-4261-a60b-fa5aee5deb4a', 'end': 112, 'start': 104, 'example_id': '18c2f619-f102-452f-ab81-d26f7e283ffe', 'tag_name': 'MedicalCondition', 'value': 'diarrhea', 'correct': None, 'human_annotations': [{'timestamp': '2020-03-21T00:24:09.423000Z', 'annotator_id': 1, 'tagged_token_id': '243efeb2-723f-4be4-933c-fbbf7e0f9903', 'name': 'Ashpat123', 'reason': 'exploration'}], 'model_annotations': []}, {'id': '281f49d3-879a-4409-b09e-4cfae019af16', 'tag_id': 'c06bd022-6ded-44a5-8d90-f17685bb85a1', 'end': 689, 'start': 679, 'example_id': '18c2f619-f102-452f-ab81-d26f7e283ffe', 'tag_name': 'Medicine', 'value': 'kaopectate', 'correct': None, 'human_annotations': [{'timestamp': '2020-03-21T00:25:38.366000Z', 'annotator_id': 1, 'tagged_token_id': '281f49d3-879a-4409-b09e-4cfae019af16', 'name': 'Ashpat123', 'reason': 'exploration'}], 'model_annotations': []}, {'id': '32fdf9e7-63f7-442a-8e25-f08ea4ad94d5', 'tag_id': 'c06bd022-6ded-44a5-8d90-f17685bb85a1', 'end': 23, 'start': 6, 'example_id': '18c2f619-f102-452f-ab81-d26f7e283ffe', 'tag_name': 'Medicine', 'value': 'bismuth compounds', 'correct': None, 'human_annotations': [{'timestamp': '2020-03-21T00:23:46.721000Z', 'annotator_id': 1, 'tagged_token_id': '32fdf9e7-63f7-442a-8e25-f08ea4ad94d5', 'name': 'Ashpat123', 'reason': 'exploration'}], 'model_annotations': []}, {'id': '392094d2-febf-4074-a2ca-4c0082f4e5b8', 'tag_id': 'c06bd022-6ded-44a5-8d90-f17685bb85a1', 'end': 37, 'start': 25, 'example_id': '18c2f619-f102-452f-ab81-d26f7e283ffe', 'tag_name': 'Medicine', 'value': 'Pepto-Bismol', 'correct': None, 'human_annotations': [{'timestamp': '2020-03-21T00:23:58.861000Z', 'annotator_id': 1, 'tagged_token_id': '392094d2-febf-4074-a2ca-4c0082f4e5b8', 'name': 'Ashpat123', 'reason': 'exploration'}], 'model_annotations': []}, {'id': '450b8c30-cf2e-4774-96d9-58b4160bea38', 'tag_id': '03eb3e50-d4d8-4261-a60b-fa5aee5deb4a', 'end': 470, 'start': 461, 'example_id': '18c2f619-f102-452f-ab81-d26f7e283ffe', 'tag_name': 'MedicalCondition', 'value': 'diarrhea ', 'correct': None, 'human_annotations': [], 'model_annotations': []}, {'id': '6b73f683-7130-4e16-bcc2-e3cc8cf89f4d', 'tag_id': 'c06bd022-6ded-44a5-8d90-f17685bb85a1', 'end': 589, 'start': 577, 'example_id': '18c2f619-f102-452f-ab81-d26f7e283ffe', 'tag_name': 'Medicine', 'value': 'chemotherapy', 'correct': None, 'human_annotations': [{'timestamp': '2020-03-21T00:25:24.179000Z', 'annotator_id': 1, 'tagged_token_id': '6b73f683-7130-4e16-bcc2-e3cc8cf89f4d', 'name': 'Ashpat123', 'reason': 'exploration'}], 'model_annotations': []}, {'id': '74574b7f-d535-48e1-8651-2708adcfe453', 'tag_id': '03eb3e50-d4d8-4261-a60b-fa5aee5deb4a', 'end': 865, 'start': 853, 'example_id': '18c2f619-f102-452f-ab81-d26f7e283ffe', 'tag_name': 'MedicalCondition', 'value': 'constipation', 'correct': None, 'human_annotations': [{'timestamp': '2020-03-21T00:26:31.676000Z', 'annotator_id': 1, 'tagged_token_id': '74574b7f-d535-48e1-8651-2708adcfe453', 'name': 'Ashpat123', 'reason': 'exploration'}], 'model_annotations': []}, {'id': '7572ab8e-ae99-400c-b4ab-ed46fbc9f97e', 'tag_id': 'c06bd022-6ded-44a5-8d90-f17685bb85a1', 'end': 198, 'start': 188, 'example_id': '18c2f619-f102-452f-ab81-d26f7e283ffe', 'tag_name': 'Medicine', 'value': 'loperamide', 'correct': None, 'human_annotations': [{'timestamp': '2020-03-21T00:24:17.680000Z', 'annotator_id': 1, 'tagged_token_id': '7572ab8e-ae99-400c-b4ab-ed46fbc9f97e', 'name': 'Ashpat123', 'reason': 'exploration'}], 'model_annotations': []}, {'id': '800e6c6c-0bfb-4819-a25a-34f759753457', 'tag_id': '03eb3e50-d4d8-4261-a60b-fa5aee5deb4a', 'end': 762, 'start': 754, 'example_id': '18c2f619-f102-452f-ab81-d26f7e283ffe', 'tag_name': 'MedicalCondition', 'value': 'diarrhea', 'correct': None, 'human_annotations': [{'timestamp': '2020-03-21T00:26:07.368000Z', 'annotator_id': 1, 'tagged_token_id': '800e6c6c-0bfb-4819-a25a-34f759753457', 'name': 'Ashpat123', 'reason': 'exploration'}], 'model_annotations': []}, {'id': '8214556a-7584-4d9b-86cd-5e09137ad904', 'tag_id': '03eb3e50-d4d8-4261-a60b-fa5aee5deb4a', 'end': 880, 'start': 870, 'example_id': '18c2f619-f102-452f-ab81-d26f7e283ffe', 'tag_name': 'MedicalCondition', 'value': 'flatulence', 'correct': None, 'human_annotations': [{'timestamp': '2020-03-21T00:26:41.322000Z', 'annotator_id': 1, 'tagged_token_id': '8214556a-7584-4d9b-86cd-5e09137ad904', 'name': 'Ashpat123', 'reason': 'exploration'}], 'model_annotations': []}, {'id': '98968e14-6756-4174-9d3d-7abd58b3aa34', 'tag_id': 'c06bd022-6ded-44a5-8d90-f17685bb85a1', 'end': 833, 'start': 823, 'example_id': '18c2f619-f102-452f-ab81-d26f7e283ffe', 'tag_name': 'Medicine', 'value': 'loperamide', 'correct': None, 'human_annotations': [{'timestamp': '2020-03-21T00:26:12.759000Z', 'annotator_id': 1, 'tagged_token_id': '98968e14-6756-4174-9d3d-7abd58b3aa34', 'name': 'Ashpat123', 'reason': 'exploration'}], 'model_annotations': []}, {'id': 'a0a03c7b-cfad-41ee-9f5c-f8a802475994', 'tag_id': '03eb3e50-d4d8-4261-a60b-fa5aee5deb4a', 'end': 853, 'start': 852, 'example_id': '18c2f619-f102-452f-ab81-d26f7e283ffe', 'tag_name': 'MedicalCondition', 'value': ' ', 'correct': None, 'human_annotations': [], 'model_annotations': []}, {'id': 'bfbddfd4-38aa-43a7-9366-24c95829ac8c', 'tag_id': '03eb3e50-d4d8-4261-a60b-fa5aee5deb4a', 'end': 469, 'start': 461, 'example_id': '18c2f619-f102-452f-ab81-d26f7e283ffe', 'tag_name': 'MedicalCondition', 'value': 'diarrhea', 'correct': None, 'human_annotations': [{'timestamp': '2020-03-21T00:25:06.921000Z', 'annotator_id': 1, 'tagged_token_id': 'bfbddfd4-38aa-43a7-9366-24c95829ac8c', 'name': 'Ashpat123', 'reason': 'exploration'}], 'model_annotations': []}, {'id': 'd7d68c18-0d8e-4547-a2fa-81fdcaf3080e', 'tag_id': '03eb3e50-d4d8-4261-a60b-fa5aee5deb4a', 'end': 543, 'start': 535, 'example_id': '18c2f619-f102-452f-ab81-d26f7e283ffe', 'tag_name': 'MedicalCondition', 'value': 'diarrhea', 'correct': None, 'human_annotations': [{'timestamp': '2020-03-21T00:25:12.203000Z', 'annotator_id': 1, 'tagged_token_id': 'd7d68c18-0d8e-4547-a2fa-81fdcaf3080e', 'name': 'Ashpat123', 'reason': 'exploration'}], 'model_annotations': []}, {'id': 'ee956220-42a4-4a91-b9f0-75019c4f5dd9', 'tag_id': 'c06bd022-6ded-44a5-8d90-f17685bb85a1', 'end': 704, 'start': 692, 'example_id': '18c2f619-f102-452f-ab81-d26f7e283ffe', 'tag_name': 'Medicine', 'value': 'Racecadotril', 'correct': None, 'human_annotations': [{'timestamp': '2020-03-21T00:25:56.503000Z', 'annotator_id': 1, 'tagged_token_id': 'ee956220-42a4-4a91-b9f0-75019c4f5dd9', 'name': 'Ashpat123', 'reason': 'exploration'}], 'model_annotations': []}, {'id': 'f04a6b7e-8904-405c-9301-e4543238b7a5', 'tag_id': '03eb3e50-d4d8-4261-a60b-fa5aee5deb4a', 'end': 571, 'start': 563, 'example_id': '18c2f619-f102-452f-ab81-d26f7e283ffe', 'tag_name': 'MedicalCondition', 'value': 'diarrhea', 'correct': None, 'human_annotations': [{'timestamp': '2020-03-21T00:25:18.043000Z', 'annotator_id': 1, 'tagged_token_id': 'f04a6b7e-8904-405c-9301-e4543238b7a5', 'name': 'Ashpat123', 'reason': 'exploration'}], 'model_annotations': []}], 'classifications': []}\n"
     ]
    }
   ],
   "source": [
    "import json\n",
    "\n",
    "with open('data.json', 'r') as f:\n",
    "    data = json.load(f)\n",
    "\n",
    "print(data['examples'][0])"
   ],
   "metadata": {
    "collapsed": false
   }
  },
  {
   "cell_type": "code",
   "execution_count": 9,
   "outputs": [
    {
     "name": "stdout",
     "output_type": "stream",
     "text": [
      "{'text': \"While bismuth compounds (Pepto-Bismol) decreased the number of bowel movements in those with travelers' diarrhea, they do not decrease the length of illness.[91] Anti-motility agents like loperamide are also effective at reducing the number of stools but not the duration of disease.[8] These agents should be used only if bloody diarrhea is not present.[92]\\n\\nDiosmectite, a natural aluminomagnesium silicate clay, is effective in alleviating symptoms of acute diarrhea in children,[93] and also has some effects in chronic functional diarrhea, radiation-induced diarrhea, and chemotherapy-induced diarrhea.[45] Another absorbent agent used for the treatment of mild diarrhea is kaopectate.\\n\\nRacecadotril an antisecretory medication may be used to treat diarrhea in children and adults.[86] It has better tolerability than loperamide, as it causes less constipation and flatulence.[94]\", 'entities': [(360, 371, 'MEDICINE'), (383, 408, 'MEDICINE'), (104, 112, 'MEDICALCONDITION'), (679, 689, 'MEDICINE'), (6, 23, 'MEDICINE'), (25, 37, 'MEDICINE'), (461, 470, 'MEDICALCONDITION'), (577, 589, 'MEDICINE'), (853, 865, 'MEDICALCONDITION'), (188, 198, 'MEDICINE'), (754, 762, 'MEDICALCONDITION'), (870, 880, 'MEDICALCONDITION'), (823, 833, 'MEDICINE'), (852, 853, 'MEDICALCONDITION'), (461, 469, 'MEDICALCONDITION'), (535, 543, 'MEDICALCONDITION'), (692, 704, 'MEDICINE'), (563, 571, 'MEDICALCONDITION')]}\n"
     ]
    }
   ],
   "source": [
    "\n",
    "training_data = {'classes' : ['MEDICINE', \"MEDICALCONDITION\", \"PATHOGEN\"], 'annotations' : []}\n",
    "for example in data['examples']:\n",
    "  temp_dict = {}\n",
    "  temp_dict['text'] = example['content']\n",
    "  temp_dict['entities'] = []\n",
    "  for annotation in example['annotations']:\n",
    "    start = annotation['start']\n",
    "    end = annotation['end']\n",
    "    label = annotation['tag_name'].upper()\n",
    "    temp_dict['entities'].append((start, end, label))\n",
    "  training_data['annotations'].append(temp_dict)\n",
    "\n",
    "print(training_data['annotations'][0])"
   ],
   "metadata": {
    "collapsed": false
   }
  },
  {
   "cell_type": "code",
   "execution_count": 10,
   "outputs": [],
   "source": [
    "import spacy\n",
    "from spacy.tokens import DocBin\n",
    "from tqdm import tqdm\n",
    "\n",
    "nlp = spacy.blank(\"en\") # load a new spacy model\n",
    "doc_bin = DocBin() # create a DocBin object"
   ],
   "metadata": {
    "collapsed": false
   }
  },
  {
   "cell_type": "code",
   "execution_count": 12,
   "outputs": [
    {
     "name": "stderr",
     "output_type": "stream",
     "text": [
      "100%|██████████| 31/31 [00:00<00:00, 818.18it/s]"
     ]
    },
    {
     "name": "stdout",
     "output_type": "stream",
     "text": [
      "Skipping entity\n",
      "Skipping entity\n",
      "Skipping entity\n",
      "Skipping entity\n",
      "Skipping entity\n",
      "Skipping entity\n",
      "Skipping entity\n",
      "Skipping entity\n",
      "Skipping entity\n",
      "Skipping entity\n",
      "Skipping entity\n",
      "Skipping entity\n",
      "Skipping entity\n",
      "Skipping entity\n",
      "Skipping entity\n",
      "Skipping entity\n"
     ]
    },
    {
     "name": "stderr",
     "output_type": "stream",
     "text": [
      "\n"
     ]
    }
   ],
   "source": [
    "from spacy.util import filter_spans\n",
    "\n",
    "for training_example  in tqdm(training_data['annotations']):\n",
    "    text = training_example['text']\n",
    "    labels = training_example['entities']\n",
    "    doc = nlp.make_doc(text)\n",
    "    ents = []\n",
    "    for start, end, label in labels:\n",
    "        span = doc.char_span(start, end, label=label, alignment_mode=\"contract\")\n",
    "        if span is None:\n",
    "            print(\"Skipping entity\")\n",
    "        else:\n",
    "            ents.append(span)\n",
    "    filtered_ents = filter_spans(ents)\n",
    "    doc.ents = filtered_ents\n",
    "    doc_bin.add(doc)\n",
    "\n",
    "doc_bin.to_disk(\"training_data.spacy\") # save the docbin object"
   ],
   "metadata": {
    "collapsed": false
   }
  },
  {
   "cell_type": "code",
   "execution_count": 13,
   "outputs": [
    {
     "data": {
      "text/plain": "<IPython.core.display.HTML object>",
      "text/html": "<span class=\"tex2jax_ignore\"><div class=\"entities\" style=\"line-height: 2.5; direction: ltr\">Antiretroviral therapy (ART) is recommended for all HIV-infectedindividuals to reduce the risk of disease progression.<br>ART also is recommended for HIV-infected individuals for the prevention of transmission of HIV.<br>Patients starting ART should be willing and able to commit to treatment and understand thebenefits and risks of therapy and the importance of adherence. Patients may chooseto postpone therapy, and providers, on a case-by-case basis, may elect to defertherapy on the basis of clinical and/or psychosocial factors.</div></span>"
     },
     "metadata": {},
     "output_type": "display_data"
    }
   ],
   "source": [
    "nlp_ner = spacy.load(\"model-best\")\n",
    "\n",
    "doc = nlp_ner(\"Antiretroviral therapy (ART) is recommended for all HIV-infected\\\n",
    "individuals to reduce the risk of disease progression.\\nART also is recommended \\\n",
    "for HIV-infected individuals for the prevention of transmission of HIV.\\nPatients \\\n",
    "starting ART should be willing and able to commit to treatment and understand the\\\n",
    "benefits and risks of therapy and the importance of adherence. Patients may choose\\\n",
    "to postpone therapy, and providers, on a case-by-case basis, may elect to defer\\\n",
    "therapy on the basis of clinical and/or psychosocial factors.\")\n",
    "\n",
    "colors = {\"PATHOGEN\": \"#F67DE3\", \"MEDICINE\": \"#7DF6D9\", \"MEDICALCONDITION\":\"#FFFFFF\"}\n",
    "options = {\"colors\": colors}\n",
    "\n",
    "spacy.displacy.render(doc, style=\"ent\", options= options, jupyter=True)"
   ],
   "metadata": {
    "collapsed": false
   }
  },
  {
   "cell_type": "code",
   "execution_count": null,
   "outputs": [],
   "source": [],
   "metadata": {
    "collapsed": false
   }
  }
 ],
 "metadata": {
  "kernelspec": {
   "display_name": "Python 3",
   "language": "python",
   "name": "python3"
  },
  "language_info": {
   "codemirror_mode": {
    "name": "ipython",
    "version": 2
   },
   "file_extension": ".py",
   "mimetype": "text/x-python",
   "name": "python",
   "nbconvert_exporter": "python",
   "pygments_lexer": "ipython2",
   "version": "2.7.6"
  }
 },
 "nbformat": 4,
 "nbformat_minor": 0
}
