{
 "cells": [
  {
   "cell_type": "code",
   "execution_count": 12,
   "metadata": {
    "collapsed": true
   },
   "outputs": [],
   "source": [
    "import spacy\n",
    "import spacy_transformers"
   ]
  },
  {
   "cell_type": "code",
   "execution_count": 4,
   "outputs": [
    {
     "name": "stdout",
     "output_type": "stream",
     "text": [
      "\r\n",
      "\u001B[38;5;1m✘ No compatible package found for 'pl_core_news_ln' (spaCy v3.6.1)\u001B[0m\r\n",
      "\r\n"
     ]
    }
   ],
   "source": [
    "!python3 -m spacy download pl_core_news_sm"
   ],
   "metadata": {
    "collapsed": false
   }
  },
  {
   "cell_type": "code",
   "execution_count": 17,
   "outputs": [
    {
     "data": {
      "text/plain": "<spacy.lang.pl.Polish at 0x28b825900>"
     },
     "execution_count": 17,
     "metadata": {},
     "output_type": "execute_result"
    }
   ],
   "source": [
    "nlp = spacy.load(\"pl_core_news_sm\")\n",
    "nlp"
   ],
   "metadata": {
    "collapsed": false
   }
  },
  {
   "cell_type": "code",
   "execution_count": 44,
   "outputs": [],
   "source": [
    "import json\n",
    "# https://www.kaggle.com/datasets/finalepoch/medical-ner\n",
    "with open('data.json', 'r') as f:\n",
    "    data = json.load(f)"
   ],
   "metadata": {
    "collapsed": false
   }
  },
  {
   "cell_type": "code",
   "execution_count": 45,
   "outputs": [
    {
     "data": {
      "text/plain": "{'id': '25aed6f4-5fd4-11ee-a1eb-662001ce32f6',\n 'content': 'Czy istnieje uczelnia o nazwie Akademia Piotrkowska w Krakow?',\n 'metadata': {},\n 'annotations': [{'id': '25aed794-5fd4-11ee-a1eb-662001ce32f6',\n   'tag_id': 'c06bd022-6ded-44a5-8d90-f17685bb85a1',\n   'end': 51,\n   'start': 31,\n   'example_id': '25aed7c6-5fd4-11ee-a1eb-662001ce32f6',\n   'tag_name': 'University',\n   'value': 'Akademia Piotrkowska',\n   'correct': None,\n   'human_annotations': [{'timestamp': '2020-03-21T00:24:32.098000Z',\n     'annotator_id': 1,\n     'tagged_token_id': '979b6f5d-8e2d-4214-9e08-cc283ac3df1e',\n     'name': 'Ashpat123',\n     'reason': 'exploration'}],\n   'model_annotations': []}],\n 'classifications': []}"
     },
     "execution_count": 45,
     "metadata": {},
     "output_type": "execute_result"
    }
   ],
   "source": [
    "data['examples'][0]\n"
   ],
   "metadata": {
    "collapsed": false
   }
  },
  {
   "cell_type": "code",
   "execution_count": 46,
   "outputs": [
    {
     "name": "stdout",
     "output_type": "stream",
     "text": [
      "{'text': 'Czy istnieje uczelnia o nazwie Akademia Piotrkowska w Krakow?', 'entities': [(31, 51, 'UNIVERSITY')]}\n"
     ]
    }
   ],
   "source": [
    "training_data = []\n",
    "for example in data['examples']:\n",
    "  temp_dict = {}\n",
    "  temp_dict['text'] = example['content']\n",
    "  temp_dict['entities'] = []\n",
    "  for annotation in example['annotations']:\n",
    "    start = annotation['start']\n",
    "    end = annotation['end']\n",
    "    label = annotation['tag_name'].upper()\n",
    "    temp_dict['entities'].append((start, end, label))\n",
    "  training_data.append(temp_dict)\n",
    "\n",
    "print(training_data[0])"
   ],
   "metadata": {
    "collapsed": false
   }
  },
  {
   "cell_type": "code",
   "execution_count": 47,
   "outputs": [],
   "source": [
    "from spacy.tokens import DocBin\n",
    "from tqdm import tqdm\n",
    "\n",
    "nlp = spacy.blank(\"pl\") # load a new spacy model\n",
    "doc_bin = DocBin()"
   ],
   "metadata": {
    "collapsed": false
   }
  },
  {
   "cell_type": "code",
   "execution_count": 48,
   "outputs": [
    {
     "name": "stderr",
     "output_type": "stream",
     "text": [
      "100%|██████████| 278/278 [00:00<00:00, 20898.97it/s]"
     ]
    },
    {
     "name": "stdout",
     "output_type": "stream",
     "text": [
      "Skipping entity\n",
      "Skipping entity\n",
      "Skipping entity\n",
      "Skipping entity\n",
      "Skipping entity\n",
      "Skipping entity\n",
      "Skipping entity\n",
      "Skipping entity\n",
      "Skipping entity\n",
      "Skipping entity\n",
      "Skipping entity\n",
      "Skipping entity\n",
      "Skipping entity\n",
      "Skipping entity\n",
      "Skipping entity\n",
      "Skipping entity\n",
      "Skipping entity\n",
      "Skipping entity\n",
      "Skipping entity\n"
     ]
    },
    {
     "name": "stderr",
     "output_type": "stream",
     "text": [
      "\n"
     ]
    }
   ],
   "source": [
    "from spacy.util import filter_spans\n",
    "\n",
    "for training_example  in tqdm(training_data):\n",
    "    text = training_example['text']\n",
    "    labels = training_example['entities']\n",
    "    doc = nlp.make_doc(text)\n",
    "    ents = []\n",
    "    for start, end, label in labels:\n",
    "        span = doc.char_span(start, end, label=label, alignment_mode=\"contract\")\n",
    "        if span is None:\n",
    "            print(\"Skipping entity\")\n",
    "        else:\n",
    "            ents.append(span)\n",
    "    filtered_ents = filter_spans(ents)\n",
    "    doc.ents = filtered_ents\n",
    "    doc_bin.add(doc)\n",
    "\n",
    "doc_bin.to_disk(\"train.spacy\")\n"
   ],
   "metadata": {
    "collapsed": false
   }
  },
  {
   "cell_type": "code",
   "execution_count": 49,
   "outputs": [
    {
     "name": "stdout",
     "output_type": "stream",
     "text": [
      "\u001B[38;5;2m✔ Auto-filled config with all values\u001B[0m\r\n",
      "\u001B[38;5;2m✔ Saved config\u001B[0m\r\n",
      "config.cfg\r\n",
      "You can now add your data and train your pipeline:\r\n",
      "python -m spacy train config.cfg --paths.train ./train.spacy --paths.dev ./dev.spacy\r\n"
     ]
    }
   ],
   "source": [
    "!python3 -m spacy init fill-config base_config.cfg config.cfg"
   ],
   "metadata": {
    "collapsed": false
   }
  },
  {
   "cell_type": "code",
   "execution_count": 50,
   "outputs": [
    {
     "name": "stdout",
     "output_type": "stream",
     "text": [
      "\u001B[38;5;4mℹ Saving to output directory: .\u001B[0m\r\n",
      "\u001B[38;5;4mℹ Using CPU\u001B[0m\r\n",
      "\u001B[38;5;4mℹ To switch to GPU 0, use the option: --gpu-id 0\u001B[0m\r\n",
      "\u001B[1m\r\n",
      "=========================== Initializing pipeline ===========================\u001B[0m\r\n",
      "\u001B[38;5;2m✔ Initialized pipeline\u001B[0m\r\n",
      "\u001B[1m\r\n",
      "============================= Training pipeline =============================\u001B[0m\r\n",
      "\u001B[38;5;4mℹ Pipeline: ['tok2vec', 'ner']\u001B[0m\r\n",
      "\u001B[38;5;4mℹ Initial learn rate: 0.001\u001B[0m\r\n",
      "E    #       LOSS TOK2VEC  LOSS NER  ENTS_F  ENTS_P  ENTS_R  SCORE \r\n",
      "---  ------  ------------  --------  ------  ------  ------  ------\r\n",
      "  0       0          0.00     53.20    0.00    0.00    0.00    0.00\r\n",
      "  7     200        230.18   1710.67  100.00  100.00  100.00    1.00\r\n",
      " 16     400          0.00      0.00  100.00  100.00  100.00    1.00\r\n",
      " 27     600          0.00      0.00  100.00  100.00  100.00    1.00\r\n",
      " 41     800          0.00      0.00  100.00  100.00  100.00    1.00\r\n",
      " 58    1000          0.00      0.00  100.00  100.00  100.00    1.00\r\n",
      " 79    1200          0.00      0.00  100.00  100.00  100.00    1.00\r\n",
      "104    1400          0.00      0.00  100.00  100.00  100.00    1.00\r\n",
      "135    1600          0.00      0.00  100.00  100.00  100.00    1.00\r\n",
      "172    1800          0.00      0.00  100.00  100.00  100.00    1.00\r\n",
      "\u001B[38;5;2m✔ Saved pipeline to output directory\u001B[0m\r\n",
      "model-last\r\n"
     ]
    }
   ],
   "source": [
    "!python3 -m spacy train config.cfg --output ./ --paths.train ./train.spacy --paths.dev ./train.spacy\n"
   ],
   "metadata": {
    "collapsed": false
   }
  },
  {
   "cell_type": "code",
   "execution_count": 51,
   "outputs": [],
   "source": [
    "nlp_ner = spacy.load(\"model-best\")"
   ],
   "metadata": {
    "collapsed": false
   }
  },
  {
   "cell_type": "code",
   "execution_count": 58,
   "outputs": [
    {
     "data": {
      "text/plain": "<IPython.core.display.HTML object>",
      "text/html": "<span class=\"tex2jax_ignore\"><div class=\"entities\" style=\"line-height: 2.5; direction: ltr\">Studiowanie Automatyka i robotyka w \n<mark class=\"entity\" style=\"background: #ddd; padding: 0.45em 0.6em; margin: 0 0.25em; line-height: 1; border-radius: 0.35em;\">\n    Ryki\n    <span style=\"font-size: 0.8em; font-weight: bold; line-height: 1; border-radius: 0.35em; vertical-align: middle; margin-left: 0.5rem\">CITY</span>\n</mark>\n</div></span>"
     },
     "metadata": {},
     "output_type": "display_data"
    }
   ],
   "source": [
    "doc = nlp_ner(\"Studiowanie Automatyka i robotyka w Ryki\")\n",
    "\n",
    "spacy.displacy.render(doc, style=\"ent\", jupyter=True)\n"
   ],
   "metadata": {
    "collapsed": false
   }
  },
  {
   "cell_type": "code",
   "execution_count": 84,
   "outputs": [
    {
     "data": {
      "text/plain": "'CITY'"
     },
     "execution_count": 84,
     "metadata": {},
     "output_type": "execute_result"
    }
   ],
   "source": [
    "doc.ents[0].label_\n"
   ],
   "metadata": {
    "collapsed": false
   }
  },
  {
   "cell_type": "code",
   "execution_count": 70,
   "outputs": [
    {
     "data": {
      "text/plain": "<IPython.core.display.HTML object>",
      "text/html": "<span class=\"tex2jax_ignore\"><div class=\"entities\" style=\"line-height: 2.5; direction: ltr\">Studiowanie Automatyka i robotyka w \n<mark class=\"entity\" style=\"background: #ddd; padding: 0.45em 0.6em; margin: 0 0.25em; line-height: 1; border-radius: 0.35em;\">\n    Ryki\n    <span style=\"font-size: 0.8em; font-weight: bold; line-height: 1; border-radius: 0.35em; vertical-align: middle; margin-left: 0.5rem\">CITY</span>\n</mark>\n</div></span>"
     },
     "metadata": {},
     "output_type": "display_data"
    }
   ],
   "source": [
    "spacy.displacy.render(doc, style=\"ent\", jupyter=True)"
   ],
   "metadata": {
    "collapsed": false
   }
  },
  {
   "cell_type": "code",
   "execution_count": 7,
   "outputs": [
    {
     "name": "stdout",
     "output_type": "stream",
     "text": [
      "Defaulting to user installation because normal site-packages is not writeable\r\n",
      "Collecting pl-core-news-lg==3.6.0\r\n",
      "  Downloading https://github.com/explosion/spacy-models/releases/download/pl_core_news_lg-3.6.0/pl_core_news_lg-3.6.0-py3-none-any.whl (573.7 MB)\r\n",
      "\u001B[K     |████████████████████████████████| 573.7 MB 107 kB/s  eta 0:00:01    |█████▍                          | 96.9 MB 4.1 MB/s eta 0:01:56     |██████▌                         | 117.1 MB 3.7 MB/s eta 0:02:03     |████████████                    | 215.2 MB 507 kB/s eta 0:11:47     |███████████████████▏            | 343.2 MB 3.7 MB/s eta 0:01:02     |████████████████████▎           | 362.8 MB 4.0 MB/s eta 0:00:53     |█████████████████████▎          | 382.0 MB 3.8 MB/s eta 0:00:50\r\n",
      "\u001B[?25hRequirement already satisfied: spacy<3.7.0,>=3.6.0 in /Users/mateusz.jamroz/Library/Python/3.10/lib/python/site-packages (from pl-core-news-lg==3.6.0) (3.6.1)\r\n",
      "Requirement already satisfied: cymem<2.1.0,>=2.0.2 in /Users/mateusz.jamroz/Library/Python/3.10/lib/python/site-packages (from spacy<3.7.0,>=3.6.0->pl-core-news-lg==3.6.0) (2.0.8)\r\n",
      "Requirement already satisfied: langcodes<4.0.0,>=3.2.0 in /Users/mateusz.jamroz/Library/Python/3.10/lib/python/site-packages (from spacy<3.7.0,>=3.6.0->pl-core-news-lg==3.6.0) (3.3.0)\r\n",
      "Requirement already satisfied: preshed<3.1.0,>=3.0.2 in /Users/mateusz.jamroz/Library/Python/3.10/lib/python/site-packages (from spacy<3.7.0,>=3.6.0->pl-core-news-lg==3.6.0) (3.0.9)\r\n",
      "Requirement already satisfied: tqdm<5.0.0,>=4.38.0 in /Library/Frameworks/Python.framework/Versions/3.10/lib/python3.10/site-packages (from spacy<3.7.0,>=3.6.0->pl-core-news-lg==3.6.0) (4.65.0)\r\n",
      "Requirement already satisfied: thinc<8.2.0,>=8.1.8 in /Users/mateusz.jamroz/Library/Python/3.10/lib/python/site-packages (from spacy<3.7.0,>=3.6.0->pl-core-news-lg==3.6.0) (8.1.12)\r\n",
      "Requirement already satisfied: srsly<3.0.0,>=2.4.3 in /Users/mateusz.jamroz/Library/Python/3.10/lib/python/site-packages (from spacy<3.7.0,>=3.6.0->pl-core-news-lg==3.6.0) (2.4.8)\r\n",
      "Requirement already satisfied: murmurhash<1.1.0,>=0.28.0 in /Users/mateusz.jamroz/Library/Python/3.10/lib/python/site-packages (from spacy<3.7.0,>=3.6.0->pl-core-news-lg==3.6.0) (1.0.10)\r\n",
      "Requirement already satisfied: numpy>=1.15.0 in /Library/Frameworks/Python.framework/Versions/3.10/lib/python3.10/site-packages (from spacy<3.7.0,>=3.6.0->pl-core-news-lg==3.6.0) (1.24.3)\r\n",
      "Requirement already satisfied: packaging>=20.0 in /Library/Frameworks/Python.framework/Versions/3.10/lib/python3.10/site-packages (from spacy<3.7.0,>=3.6.0->pl-core-news-lg==3.6.0) (23.1)\r\n",
      "Requirement already satisfied: pathy>=0.10.0 in /Users/mateusz.jamroz/Library/Python/3.10/lib/python/site-packages (from spacy<3.7.0,>=3.6.0->pl-core-news-lg==3.6.0) (0.10.2)\r\n",
      "Requirement already satisfied: typer<0.10.0,>=0.3.0 in /Users/mateusz.jamroz/Library/Python/3.10/lib/python/site-packages (from spacy<3.7.0,>=3.6.0->pl-core-news-lg==3.6.0) (0.9.0)\r\n",
      "Requirement already satisfied: wasabi<1.2.0,>=0.9.1 in /Users/mateusz.jamroz/Library/Python/3.10/lib/python/site-packages (from spacy<3.7.0,>=3.6.0->pl-core-news-lg==3.6.0) (1.1.2)\r\n",
      "Requirement already satisfied: pydantic!=1.8,!=1.8.1,<3.0.0,>=1.7.4 in /Users/mateusz.jamroz/Library/Python/3.10/lib/python/site-packages (from spacy<3.7.0,>=3.6.0->pl-core-news-lg==3.6.0) (2.4.2)\r\n",
      "Requirement already satisfied: smart-open<7.0.0,>=5.2.1 in /Users/mateusz.jamroz/Library/Python/3.10/lib/python/site-packages (from spacy<3.7.0,>=3.6.0->pl-core-news-lg==3.6.0) (6.4.0)\r\n",
      "Requirement already satisfied: spacy-loggers<2.0.0,>=1.0.0 in /Users/mateusz.jamroz/Library/Python/3.10/lib/python/site-packages (from spacy<3.7.0,>=3.6.0->pl-core-news-lg==3.6.0) (1.0.5)\r\n",
      "Requirement already satisfied: catalogue<2.1.0,>=2.0.6 in /Users/mateusz.jamroz/Library/Python/3.10/lib/python/site-packages (from spacy<3.7.0,>=3.6.0->pl-core-news-lg==3.6.0) (2.0.10)\r\n",
      "Requirement already satisfied: requests<3.0.0,>=2.13.0 in /Users/mateusz.jamroz/Library/Python/3.10/lib/python/site-packages (from spacy<3.7.0,>=3.6.0->pl-core-news-lg==3.6.0) (2.31.0)\r\n",
      "Requirement already satisfied: setuptools in /Library/Frameworks/Python.framework/Versions/3.10/lib/python3.10/site-packages (from spacy<3.7.0,>=3.6.0->pl-core-news-lg==3.6.0) (57.4.0)\r\n",
      "Requirement already satisfied: spacy-legacy<3.1.0,>=3.0.11 in /Users/mateusz.jamroz/Library/Python/3.10/lib/python/site-packages (from spacy<3.7.0,>=3.6.0->pl-core-news-lg==3.6.0) (3.0.12)\r\n",
      "Requirement already satisfied: jinja2 in /Library/Frameworks/Python.framework/Versions/3.10/lib/python3.10/site-packages (from spacy<3.7.0,>=3.6.0->pl-core-news-lg==3.6.0) (3.1.2)\r\n",
      "Requirement already satisfied: typing-extensions>=4.6.1 in /Users/mateusz.jamroz/Library/Python/3.10/lib/python/site-packages (from pydantic!=1.8,!=1.8.1,<3.0.0,>=1.7.4->spacy<3.7.0,>=3.6.0->pl-core-news-lg==3.6.0) (4.8.0)\r\n",
      "Requirement already satisfied: annotated-types>=0.4.0 in /Users/mateusz.jamroz/Library/Python/3.10/lib/python/site-packages (from pydantic!=1.8,!=1.8.1,<3.0.0,>=1.7.4->spacy<3.7.0,>=3.6.0->pl-core-news-lg==3.6.0) (0.5.0)\r\n",
      "Requirement already satisfied: pydantic-core==2.10.1 in /Users/mateusz.jamroz/Library/Python/3.10/lib/python/site-packages (from pydantic!=1.8,!=1.8.1,<3.0.0,>=1.7.4->spacy<3.7.0,>=3.6.0->pl-core-news-lg==3.6.0) (2.10.1)\r\n",
      "Requirement already satisfied: urllib3<3,>=1.21.1 in /Users/mateusz.jamroz/Library/Python/3.10/lib/python/site-packages (from requests<3.0.0,>=2.13.0->spacy<3.7.0,>=3.6.0->pl-core-news-lg==3.6.0) (2.0.5)\r\n",
      "Requirement already satisfied: idna<4,>=2.5 in /Users/mateusz.jamroz/Library/Python/3.10/lib/python/site-packages (from requests<3.0.0,>=2.13.0->spacy<3.7.0,>=3.6.0->pl-core-news-lg==3.6.0) (3.4)\r\n",
      "Requirement already satisfied: certifi>=2017.4.17 in /Users/mateusz.jamroz/Library/Python/3.10/lib/python/site-packages (from requests<3.0.0,>=2.13.0->spacy<3.7.0,>=3.6.0->pl-core-news-lg==3.6.0) (2023.7.22)\r\n",
      "Requirement already satisfied: charset-normalizer<4,>=2 in /Users/mateusz.jamroz/Library/Python/3.10/lib/python/site-packages (from requests<3.0.0,>=2.13.0->spacy<3.7.0,>=3.6.0->pl-core-news-lg==3.6.0) (3.3.0)\r\n",
      "Requirement already satisfied: blis<0.8.0,>=0.7.8 in /Users/mateusz.jamroz/Library/Python/3.10/lib/python/site-packages (from thinc<8.2.0,>=8.1.8->spacy<3.7.0,>=3.6.0->pl-core-news-lg==3.6.0) (0.7.11)\r\n",
      "Requirement already satisfied: confection<1.0.0,>=0.0.1 in /Users/mateusz.jamroz/Library/Python/3.10/lib/python/site-packages (from thinc<8.2.0,>=8.1.8->spacy<3.7.0,>=3.6.0->pl-core-news-lg==3.6.0) (0.1.3)\r\n",
      "Requirement already satisfied: click<9.0.0,>=7.1.1 in /Users/mateusz.jamroz/Library/Python/3.10/lib/python/site-packages (from typer<0.10.0,>=0.3.0->spacy<3.7.0,>=3.6.0->pl-core-news-lg==3.6.0) (8.1.7)\r\n",
      "Requirement already satisfied: MarkupSafe>=2.0 in /Library/Frameworks/Python.framework/Versions/3.10/lib/python3.10/site-packages (from jinja2->spacy<3.7.0,>=3.6.0->pl-core-news-lg==3.6.0) (2.1.2)\r\n",
      "\u001B[33mWARNING: You are using pip version 21.2.3; however, version 23.2.1 is available.\r\n",
      "You should consider upgrading via the '/Library/Frameworks/Python.framework/Versions/3.10/bin/python3 -m pip install --upgrade pip' command.\u001B[0m\r\n",
      "\u001B[38;5;2m✔ Download and installation successful\u001B[0m\r\n",
      "You can now load the package via spacy.load('pl_core_news_lg')\r\n"
     ]
    }
   ],
   "source": [
    "!python3 -m spacy download pl_core_news_lg"
   ],
   "metadata": {
    "collapsed": false
   }
  },
  {
   "cell_type": "code",
   "execution_count": 9,
   "outputs": [],
   "source": [
    "nlp_test = spacy.load(\"pl_core_news_lg\")"
   ],
   "metadata": {
    "collapsed": false
   }
  },
  {
   "cell_type": "code",
   "execution_count": 11,
   "outputs": [
    {
     "data": {
      "text/plain": "<IPython.core.display.HTML object>",
      "text/html": "<span class=\"tex2jax_ignore\"><div class=\"entities\" style=\"line-height: 2.5; direction: ltr\">\n<mark class=\"entity\" style=\"background: #ddd; padding: 0.45em 0.6em; margin: 0 0.25em; line-height: 1; border-radius: 0.35em;\">\n    Krakow\n    <span style=\"font-size: 0.8em; font-weight: bold; line-height: 1; border-radius: 0.35em; vertical-align: middle; margin-left: 0.5rem\">placeName</span>\n</mark>\n</div></span>"
     },
     "metadata": {},
     "output_type": "display_data"
    }
   ],
   "source": [
    "doc = nlp_test(\"Krakow\")\n",
    "\n",
    "spacy.displacy.render(doc, style=\"ent\", jupyter=True)"
   ],
   "metadata": {
    "collapsed": false
   }
  },
  {
   "cell_type": "code",
   "execution_count": null,
   "outputs": [],
   "source": [],
   "metadata": {
    "collapsed": false
   }
  }
 ],
 "metadata": {
  "kernelspec": {
   "display_name": "Python 3",
   "language": "python",
   "name": "python3"
  },
  "language_info": {
   "codemirror_mode": {
    "name": "ipython",
    "version": 2
   },
   "file_extension": ".py",
   "mimetype": "text/x-python",
   "name": "python",
   "nbconvert_exporter": "python",
   "pygments_lexer": "ipython2",
   "version": "2.7.6"
  }
 },
 "nbformat": 4,
 "nbformat_minor": 0
}
